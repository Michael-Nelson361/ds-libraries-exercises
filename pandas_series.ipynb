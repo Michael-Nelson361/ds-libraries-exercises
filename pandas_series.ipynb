{
 "cells": [
  {
   "cell_type": "markdown",
   "id": "64db920b-034c-4c85-ace4-ad0f3d96e538",
   "metadata": {},
   "source": [
    "# Exercises Part 1"
   ]
  },
  {
   "cell_type": "code",
   "execution_count": 1,
   "id": "c2f02b53-9230-45e6-bb3c-463955234912",
   "metadata": {
    "tags": []
   },
   "outputs": [],
   "source": [
    "import pandas as pd\n",
    "\n",
    "fruits = pd.Series([\"kiwi\", \"mango\", \"strawberry\", \"pineapple\", \"gala apple\", \"honeycrisp apple\", \"tomato\", \"watermelon\", \"honeydew\", \"kiwi\", \"kiwi\", \"kiwi\", \"mango\", \"blueberry\", \"blackberry\", \"gooseberry\", \"papaya\"])"
   ]
  },
  {
   "cell_type": "markdown",
   "id": "e88fc08d-2319-4af8-9118-42727a327efc",
   "metadata": {},
   "source": [
    "## 1. Determine the number of elements in fruits."
   ]
  },
  {
   "cell_type": "code",
   "execution_count": 2,
   "id": "c3184ee3-0ed0-4ca2-829d-1af7a5b9befd",
   "metadata": {
    "tags": []
   },
   "outputs": [
    {
     "data": {
      "text/plain": [
       "17"
      ]
     },
     "execution_count": 2,
     "metadata": {},
     "output_type": "execute_result"
    }
   ],
   "source": [
    "len(fruits)"
   ]
  },
  {
   "cell_type": "markdown",
   "id": "2a4942b9-aced-4e42-b38c-d96af126b19a",
   "metadata": {},
   "source": [
    "## 2. Output only the index from fruits."
   ]
  },
  {
   "cell_type": "code",
   "execution_count": 3,
   "id": "691c1826-fc44-494d-80e8-a88b9fad69b5",
   "metadata": {
    "tags": []
   },
   "outputs": [
    {
     "data": {
      "text/plain": [
       "RangeIndex(start=0, stop=17, step=1)"
      ]
     },
     "execution_count": 3,
     "metadata": {},
     "output_type": "execute_result"
    }
   ],
   "source": [
    "fruits.index"
   ]
  },
  {
   "cell_type": "markdown",
   "id": "b06cc8aa-4ff3-4557-8e53-162964e07e7f",
   "metadata": {},
   "source": [
    "## 3. Output only the values from fruits."
   ]
  },
  {
   "cell_type": "code",
   "execution_count": 4,
   "id": "6ecece9b-9804-4568-ac8a-f56d7c898938",
   "metadata": {
    "tags": []
   },
   "outputs": [
    {
     "data": {
      "text/plain": [
       "array(['kiwi', 'mango', 'strawberry', 'pineapple', 'gala apple',\n",
       "       'honeycrisp apple', 'tomato', 'watermelon', 'honeydew', 'kiwi',\n",
       "       'kiwi', 'kiwi', 'mango', 'blueberry', 'blackberry', 'gooseberry',\n",
       "       'papaya'], dtype=object)"
      ]
     },
     "execution_count": 4,
     "metadata": {},
     "output_type": "execute_result"
    }
   ],
   "source": [
    "fruits.values"
   ]
  },
  {
   "cell_type": "markdown",
   "id": "ab92fb1c-4cdf-44c5-b647-8d9f575bbd0b",
   "metadata": {},
   "source": [
    "## 4. Confirm the data type of the values in fruits."
   ]
  },
  {
   "cell_type": "code",
   "execution_count": 5,
   "id": "a3c1e14e-0a55-4fe3-8d04-16ffb84afa1c",
   "metadata": {
    "tags": []
   },
   "outputs": [
    {
     "data": {
      "text/plain": [
       "dtype('O')"
      ]
     },
     "execution_count": 5,
     "metadata": {},
     "output_type": "execute_result"
    }
   ],
   "source": [
    "fruits.dtype"
   ]
  },
  {
   "cell_type": "markdown",
   "id": "26801ae2-8199-4c10-8af1-d973f3e91025",
   "metadata": {
    "tags": []
   },
   "source": [
    "## 5. Output only the first five values from fruits. Output the last three values. Output two random values from fruits."
   ]
  },
  {
   "cell_type": "code",
   "execution_count": 6,
   "id": "dc0e65a4-ca3e-44a3-b0ba-314e6bd395c6",
   "metadata": {
    "tags": []
   },
   "outputs": [
    {
     "data": {
      "text/plain": [
       "0          kiwi\n",
       "1         mango\n",
       "2    strawberry\n",
       "3     pineapple\n",
       "4    gala apple\n",
       "dtype: object"
      ]
     },
     "execution_count": 6,
     "metadata": {},
     "output_type": "execute_result"
    }
   ],
   "source": [
    "fruits.head()"
   ]
  },
  {
   "cell_type": "code",
   "execution_count": 7,
   "id": "b332e72d-ef43-4a7a-af8f-2d13c3dfa5c1",
   "metadata": {
    "tags": []
   },
   "outputs": [
    {
     "data": {
      "text/plain": [
       "14    blackberry\n",
       "15    gooseberry\n",
       "16        papaya\n",
       "dtype: object"
      ]
     },
     "execution_count": 7,
     "metadata": {},
     "output_type": "execute_result"
    }
   ],
   "source": [
    "fruits.tail(3)"
   ]
  },
  {
   "cell_type": "code",
   "execution_count": 8,
   "id": "466dec2b-1dc0-4ea8-bb69-8c9ee9ebe079",
   "metadata": {
    "tags": []
   },
   "outputs": [
    {
     "data": {
      "text/plain": [
       "11    kiwi\n",
       "0     kiwi\n",
       "dtype: object"
      ]
     },
     "execution_count": 8,
     "metadata": {},
     "output_type": "execute_result"
    }
   ],
   "source": [
    "fruits.sample(2)"
   ]
  },
  {
   "cell_type": "markdown",
   "id": "9323b114-21a4-491a-954a-f9a3765cbefd",
   "metadata": {},
   "source": [
    "## 6. Run the .describe() on fruits to see what information it returns when called on a Series with string values."
   ]
  },
  {
   "cell_type": "code",
   "execution_count": 9,
   "id": "d10ed538-3cbb-456a-a01b-92b4d0cc5ee0",
   "metadata": {
    "tags": []
   },
   "outputs": [
    {
     "data": {
      "text/plain": [
       "count       17\n",
       "unique      13\n",
       "top       kiwi\n",
       "freq         4\n",
       "dtype: object"
      ]
     },
     "execution_count": 9,
     "metadata": {},
     "output_type": "execute_result"
    }
   ],
   "source": [
    "fruits.describe()"
   ]
  },
  {
   "cell_type": "markdown",
   "id": "e0276e08-bcac-4d67-af7b-7fbed311bfbd",
   "metadata": {},
   "source": [
    "## 7. Run the code necessary to produce only the unique string values from fruits."
   ]
  },
  {
   "cell_type": "code",
   "execution_count": 10,
   "id": "a5f34e15-2c83-45dc-902d-253d303aa2a6",
   "metadata": {
    "tags": []
   },
   "outputs": [
    {
     "data": {
      "text/plain": [
       "array(['kiwi', 'mango', 'strawberry', 'pineapple', 'gala apple',\n",
       "       'honeycrisp apple', 'tomato', 'watermelon', 'honeydew',\n",
       "       'blueberry', 'blackberry', 'gooseberry', 'papaya'], dtype=object)"
      ]
     },
     "execution_count": 10,
     "metadata": {},
     "output_type": "execute_result"
    }
   ],
   "source": [
    "fruits.unique()"
   ]
  },
  {
   "cell_type": "markdown",
   "id": "3f373621-b0ba-41ea-af31-b7e4909745ac",
   "metadata": {},
   "source": [
    "## 8. Determine how many times each unique string value occurs in fruits."
   ]
  },
  {
   "cell_type": "code",
   "execution_count": 11,
   "id": "c50cdc29-be8a-47ea-8863-c602c1b4724a",
   "metadata": {
    "tags": []
   },
   "outputs": [
    {
     "data": {
      "text/plain": [
       "kiwi                4\n",
       "mango               2\n",
       "strawberry          1\n",
       "pineapple           1\n",
       "gala apple          1\n",
       "honeycrisp apple    1\n",
       "tomato              1\n",
       "watermelon          1\n",
       "honeydew            1\n",
       "blueberry           1\n",
       "blackberry          1\n",
       "gooseberry          1\n",
       "papaya              1\n",
       "Name: count, dtype: int64"
      ]
     },
     "execution_count": 11,
     "metadata": {},
     "output_type": "execute_result"
    }
   ],
   "source": [
    "fruits.value_counts()"
   ]
  },
  {
   "cell_type": "markdown",
   "id": "bb836626-efea-4996-a394-7e271617d499",
   "metadata": {},
   "source": [
    "## 9. Determine the string value that occurs most frequently in fruits."
   ]
  },
  {
   "cell_type": "code",
   "execution_count": 12,
   "id": "15e108cb-aa5e-445d-ad92-44bcba3e40ba",
   "metadata": {
    "tags": []
   },
   "outputs": [
    {
     "data": {
      "text/plain": [
       "kiwi    4\n",
       "Name: count, dtype: int64"
      ]
     },
     "execution_count": 12,
     "metadata": {},
     "output_type": "execute_result"
    }
   ],
   "source": [
    "fruits.value_counts().head(1)"
   ]
  },
  {
   "cell_type": "markdown",
   "id": "c80bd81d-c1ff-4401-9e85-e5375d919e12",
   "metadata": {},
   "source": [
    "## 10. Determine the string value that occurs least frequently in fruits."
   ]
  },
  {
   "cell_type": "code",
   "execution_count": 13,
   "id": "34d1e8f1-9157-49cb-823e-2f6d3545a126",
   "metadata": {
    "tags": []
   },
   "outputs": [
    {
     "data": {
      "text/plain": [
       "papaya    1\n",
       "Name: count, dtype: int64"
      ]
     },
     "execution_count": 13,
     "metadata": {},
     "output_type": "execute_result"
    }
   ],
   "source": [
    "fruits.value_counts().tail(1)"
   ]
  },
  {
   "cell_type": "markdown",
   "id": "ee209e64-1214-45a2-bb8a-90ca31226851",
   "metadata": {},
   "source": [
    "# Exercises Part 2"
   ]
  },
  {
   "cell_type": "markdown",
   "id": "9cffea4c-90f4-4ff7-a762-697ae5f0daa2",
   "metadata": {},
   "source": [
    "## 1. Capitalize all the string values in fruits."
   ]
  },
  {
   "cell_type": "code",
   "execution_count": 14,
   "id": "8ba0279b-57f5-4862-ab9f-ff414edfe6b4",
   "metadata": {
    "tags": []
   },
   "outputs": [
    {
     "data": {
      "text/plain": [
       "0                 Kiwi\n",
       "1                Mango\n",
       "2           Strawberry\n",
       "3            Pineapple\n",
       "4           Gala apple\n",
       "5     Honeycrisp apple\n",
       "6               Tomato\n",
       "7           Watermelon\n",
       "8             Honeydew\n",
       "9                 Kiwi\n",
       "10                Kiwi\n",
       "11                Kiwi\n",
       "12               Mango\n",
       "13           Blueberry\n",
       "14          Blackberry\n",
       "15          Gooseberry\n",
       "16              Papaya\n",
       "dtype: object"
      ]
     },
     "execution_count": 14,
     "metadata": {},
     "output_type": "execute_result"
    }
   ],
   "source": [
    "fruits.str.capitalize()"
   ]
  },
  {
   "cell_type": "markdown",
   "id": "5d7247f5-558e-4ae1-9bb3-802224a777c0",
   "metadata": {},
   "source": [
    "## 2. Count the letter \"a\" in all the string values (use string vectorization)."
   ]
  },
  {
   "cell_type": "code",
   "execution_count": 15,
   "id": "462add5f-3f95-4857-9c3d-3b822facd949",
   "metadata": {
    "tags": []
   },
   "outputs": [
    {
     "data": {
      "text/plain": [
       "14"
      ]
     },
     "execution_count": 15,
     "metadata": {},
     "output_type": "execute_result"
    }
   ],
   "source": [
    "sum(fruits.str.count('a'))"
   ]
  },
  {
   "cell_type": "markdown",
   "id": "9ca6aab5-ec7b-4c62-b39a-d16d5b136720",
   "metadata": {},
   "source": [
    "## 3. Output the number of vowels in each and every string value."
   ]
  },
  {
   "cell_type": "code",
   "execution_count": 16,
   "id": "feea847e-933a-4b81-a67b-58be00fd8437",
   "metadata": {
    "tags": []
   },
   "outputs": [
    {
     "data": {
      "text/plain": [
       "0     2\n",
       "1     2\n",
       "2     2\n",
       "3     4\n",
       "4     4\n",
       "5     5\n",
       "6     3\n",
       "7     4\n",
       "8     3\n",
       "9     2\n",
       "10    2\n",
       "11    2\n",
       "12    2\n",
       "13    3\n",
       "14    2\n",
       "15    4\n",
       "16    3\n",
       "dtype: int64"
      ]
     },
     "execution_count": 16,
     "metadata": {},
     "output_type": "execute_result"
    }
   ],
   "source": [
    "fruits.str.count('a|e|i|o|u')"
   ]
  },
  {
   "cell_type": "code",
   "execution_count": 18,
   "id": "ecca1834-75d3-467d-9aa7-2801a270bb9f",
   "metadata": {
    "tags": []
   },
   "outputs": [
    {
     "data": {
      "text/plain": [
       "0     2\n",
       "1     2\n",
       "2     2\n",
       "3     4\n",
       "4     4\n",
       "5     5\n",
       "6     3\n",
       "7     4\n",
       "8     3\n",
       "9     2\n",
       "10    2\n",
       "11    2\n",
       "12    2\n",
       "13    3\n",
       "14    2\n",
       "15    4\n",
       "16    3\n",
       "dtype: int64"
      ]
     },
     "execution_count": 18,
     "metadata": {},
     "output_type": "execute_result"
    }
   ],
   "source": [
    "# Alternate method\n",
    "vowels = '[aeiou]'\n",
    "fruits.str.count(vowels)"
   ]
  },
  {
   "cell_type": "markdown",
   "id": "11229e78-70d0-4f17-897b-f96220500078",
   "metadata": {},
   "source": [
    "## 4. Write the code to get the longest string value from fruits."
   ]
  },
  {
   "cell_type": "code",
   "execution_count": 19,
   "id": "451fe366-1114-4eca-85d8-787ffcc2524c",
   "metadata": {
    "tags": []
   },
   "outputs": [
    {
     "data": {
      "text/plain": [
       "5    honeycrisp apple\n",
       "dtype: object"
      ]
     },
     "execution_count": 19,
     "metadata": {},
     "output_type": "execute_result"
    }
   ],
   "source": [
    "fruits[fruits.str.len() == max(fruits.str.len())]"
   ]
  },
  {
   "cell_type": "markdown",
   "id": "462a9538-5f23-4fa6-877f-f26678a595c8",
   "metadata": {},
   "source": [
    "## 5. Write the code to get the string values with 5 or more letters in the name."
   ]
  },
  {
   "cell_type": "code",
   "execution_count": 20,
   "id": "65702608-c0ce-4a0f-9da3-f9c529926ef2",
   "metadata": {
    "tags": []
   },
   "outputs": [
    {
     "data": {
      "text/plain": [
       "1                mango\n",
       "2           strawberry\n",
       "3            pineapple\n",
       "4           gala apple\n",
       "5     honeycrisp apple\n",
       "6               tomato\n",
       "7           watermelon\n",
       "8             honeydew\n",
       "12               mango\n",
       "13           blueberry\n",
       "14          blackberry\n",
       "15          gooseberry\n",
       "16              papaya\n",
       "dtype: object"
      ]
     },
     "execution_count": 20,
     "metadata": {},
     "output_type": "execute_result"
    }
   ],
   "source": [
    "fruits[fruits.str.len() >= 5]"
   ]
  },
  {
   "cell_type": "markdown",
   "id": "d26e52d7-fa6b-4c9f-970f-af699852fb05",
   "metadata": {},
   "source": [
    "## 6. Find the fruit(s) containing the letter \"o\" two or more times."
   ]
  },
  {
   "cell_type": "code",
   "execution_count": 21,
   "id": "24d9d5b1-2af3-46bd-814b-6e67972af5ed",
   "metadata": {
    "tags": []
   },
   "outputs": [
    {
     "data": {
      "text/plain": [
       "6         tomato\n",
       "15    gooseberry\n",
       "dtype: object"
      ]
     },
     "execution_count": 21,
     "metadata": {},
     "output_type": "execute_result"
    }
   ],
   "source": [
    "fruits[fruits.str.count('o') >= 2]"
   ]
  },
  {
   "cell_type": "code",
   "execution_count": 22,
   "id": "1452a1d6-74ee-4a33-a1ac-7a8bce0a7a3b",
   "metadata": {
    "tags": []
   },
   "outputs": [],
   "source": [
    "## 7. Write the code to get only the string values containing the substring \"berry\"."
   ]
  },
  {
   "cell_type": "code",
   "execution_count": 23,
   "id": "5545ef97-0f85-4191-87d4-fc393a802f55",
   "metadata": {
    "tags": []
   },
   "outputs": [
    {
     "data": {
      "text/plain": [
       "2     strawberry\n",
       "13     blueberry\n",
       "14    blackberry\n",
       "15    gooseberry\n",
       "dtype: object"
      ]
     },
     "execution_count": 23,
     "metadata": {},
     "output_type": "execute_result"
    }
   ],
   "source": [
    "fruits[fruits.str.contains('berry')]"
   ]
  },
  {
   "cell_type": "markdown",
   "id": "4b1729df-3134-4885-8d9a-078f490227c5",
   "metadata": {},
   "source": [
    "## 8. Write the code to get only the string values containing the substring \"apple\"."
   ]
  },
  {
   "cell_type": "code",
   "execution_count": 24,
   "id": "21be9aaf-cdb2-44e6-9c90-3678061a3ff2",
   "metadata": {
    "tags": []
   },
   "outputs": [
    {
     "data": {
      "text/plain": [
       "3           pineapple\n",
       "4          gala apple\n",
       "5    honeycrisp apple\n",
       "dtype: object"
      ]
     },
     "execution_count": 24,
     "metadata": {},
     "output_type": "execute_result"
    }
   ],
   "source": [
    "fruits[fruits.str.contains('apple')]"
   ]
  },
  {
   "cell_type": "markdown",
   "id": "275edc1b-43ea-4df3-8d23-16d7d6a765fb",
   "metadata": {},
   "source": [
    "## 9. Which string value contains the most vowels?"
   ]
  },
  {
   "cell_type": "code",
   "execution_count": 25,
   "id": "9e37aae5-a816-4d5d-b5d5-0ea4df2e8726",
   "metadata": {
    "tags": []
   },
   "outputs": [
    {
     "data": {
      "text/plain": [
       "5    honeycrisp apple\n",
       "dtype: object"
      ]
     },
     "execution_count": 25,
     "metadata": {},
     "output_type": "execute_result"
    }
   ],
   "source": [
    "fruits[fruits.str.count('a|e|i|o|u') == max(fruits.str.count('a|e|i|o|u'))]"
   ]
  },
  {
   "cell_type": "markdown",
   "id": "cee868e6-c2eb-4e8d-938f-2bc2715b036a",
   "metadata": {},
   "source": [
    "# Exercises Part 3"
   ]
  },
  {
   "cell_type": "markdown",
   "id": "6a9501b1-5a3c-4e3d-a3bb-8d290d95bb4c",
   "metadata": {},
   "source": [
    "Use pandas to create a Series named letters from the following string. \n",
    "The easiest way to make this string into a Pandas series is to use list to \n",
    "convert each individual letter into a single string on a basic Python list.\n",
    "\n",
    "'hnvidduckkqxwymbimkccexbkmqygkxoyndmcxnwqarhyffsjpsrabtjzsypmzadfavyrnndndvswreauxovncxtwzpwejilzjrmmbbgbyxvjtewqthafnbkqplarokkyydtubbmnexoypulzwfhqvckdpqtpoppzqrmcvhhpwgjwupgzhiofohawytlsiyecuproguy'"
   ]
  },
  {
   "cell_type": "code",
   "execution_count": 26,
   "id": "b271f527-10b9-42a5-ab72-dad67d3a8e50",
   "metadata": {
    "tags": []
   },
   "outputs": [
    {
     "data": {
      "text/plain": [
       "0      h\n",
       "1      n\n",
       "2      v\n",
       "3      i\n",
       "4      d\n",
       "      ..\n",
       "195    r\n",
       "196    o\n",
       "197    g\n",
       "198    u\n",
       "199    y\n",
       "Length: 200, dtype: object"
      ]
     },
     "execution_count": 26,
     "metadata": {},
     "output_type": "execute_result"
    }
   ],
   "source": [
    "letters = pd.Series(list('hnvidduckkqxwymbimkccexbkmqygkxoyndmcxnwqarhyffsjpsrabtjzsypmzadfavyrnndndvswreauxovncxtwzpwejilzjrmmbbgbyxvjtewqthafnbkqplarokkyydtubbmnexoypulzwfhqvckdpqtpoppzqrmcvhhpwgjwupgzhiofohawytlsiyecuproguy'))\n",
    "\n",
    "letters"
   ]
  },
  {
   "cell_type": "markdown",
   "id": "a1cc76dd-b404-4024-af25-ff71c38873c1",
   "metadata": {},
   "source": [
    "## 1. Which letter occurs the most frequently in the letters Series?"
   ]
  },
  {
   "cell_type": "code",
   "execution_count": 27,
   "id": "954ef916-89fb-42d1-9618-69d21db5cc6d",
   "metadata": {
    "tags": []
   },
   "outputs": [
    {
     "data": {
      "text/plain": [
       "y    13\n",
       "Name: count, dtype: int64"
      ]
     },
     "execution_count": 27,
     "metadata": {},
     "output_type": "execute_result"
    }
   ],
   "source": [
    "letters.value_counts().head(1)"
   ]
  },
  {
   "cell_type": "markdown",
   "id": "e9ede558-5ae4-48f2-beef-31726b79fd3d",
   "metadata": {},
   "source": [
    "## 2. Which letter occurs the Least frequently?"
   ]
  },
  {
   "cell_type": "code",
   "execution_count": 28,
   "id": "629262d2-71f2-4420-b2cf-4aeb36774248",
   "metadata": {
    "tags": []
   },
   "outputs": [
    {
     "data": {
      "text/plain": [
       "l    4\n",
       "Name: count, dtype: int64"
      ]
     },
     "execution_count": 28,
     "metadata": {},
     "output_type": "execute_result"
    }
   ],
   "source": [
    "letters.value_counts().tail(1)"
   ]
  },
  {
   "cell_type": "markdown",
   "id": "f16e37cf-39b0-4060-997d-53b39a7de58b",
   "metadata": {},
   "source": [
    "## 3. How many vowels are in the Series?"
   ]
  },
  {
   "cell_type": "code",
   "execution_count": 62,
   "id": "ae9eab0e-b771-41f9-9829-f09cc8b6505d",
   "metadata": {
    "tags": []
   },
   "outputs": [
    {
     "data": {
      "text/plain": [
       "34"
      ]
     },
     "execution_count": 62,
     "metadata": {},
     "output_type": "execute_result"
    }
   ],
   "source": [
    "letters[letters.isin(['a','e','i','o','u'])].count()"
   ]
  },
  {
   "cell_type": "markdown",
   "id": "b5557aba-640d-417d-a781-152e105b3a38",
   "metadata": {
    "tags": []
   },
   "source": [
    "## 4. How many consonants are in the Series?"
   ]
  },
  {
   "cell_type": "code",
   "execution_count": 63,
   "id": "5d835ab2-74bc-4c3f-98b4-47178164e284",
   "metadata": {
    "tags": []
   },
   "outputs": [
    {
     "data": {
      "text/plain": [
       "166"
      ]
     },
     "execution_count": 63,
     "metadata": {},
     "output_type": "execute_result"
    }
   ],
   "source": [
    "len(letters) - letters[letters.isin(['a','e','i','o','u'])].count()"
   ]
  },
  {
   "cell_type": "markdown",
   "id": "2444a2be-c1ba-4eaa-897f-c1e97fe810b6",
   "metadata": {
    "tags": []
   },
   "source": [
    "## 5. Create a Series that has all of the same letters but uppercased."
   ]
  },
  {
   "cell_type": "code",
   "execution_count": 64,
   "id": "d08fed5a-4c55-4d4a-89ef-a5f7266eaf24",
   "metadata": {
    "tags": []
   },
   "outputs": [
    {
     "data": {
      "text/plain": [
       "0      H\n",
       "1      N\n",
       "2      V\n",
       "3      I\n",
       "4      D\n",
       "      ..\n",
       "195    R\n",
       "196    O\n",
       "197    G\n",
       "198    U\n",
       "199    Y\n",
       "Length: 200, dtype: object"
      ]
     },
     "execution_count": 64,
     "metadata": {},
     "output_type": "execute_result"
    }
   ],
   "source": [
    "upper_letters = letters.str.upper()\n",
    "upper_letters"
   ]
  },
  {
   "cell_type": "markdown",
   "id": "885f1c24-b43b-4abb-9d33-e6569a2522e3",
   "metadata": {
    "tags": []
   },
   "source": [
    "## 6. Create a bar plot of the frequencies of the 6 most commonly occuring letters."
   ]
  },
  {
   "cell_type": "code",
   "execution_count": 65,
   "id": "2d432835-e74f-4982-8cee-0a95062ddf96",
   "metadata": {
    "tags": []
   },
   "outputs": [
    {
     "data": {
      "text/plain": [
       "<Axes: >"
      ]
     },
     "execution_count": 65,
     "metadata": {},
     "output_type": "execute_result"
    },
    {
     "data": {
      "image/png": "[encoded data removed]",
      "text/plain": [
       "<Figure size 640x480 with 1 Axes>"
      ]
     },
     "metadata": {},
     "output_type": "display_data"
    }
   ],
   "source": [
    "letters.value_counts().head(6).plot.bar()"
   ]
  },
  {
   "cell_type": "markdown",
   "id": "9c46e396-8624-42b2-8a90-7be13b92f63a",
   "metadata": {
    "tags": []
   },
   "source": [
    "Use pandas to create a Series named numbers from the following list:\n",
    "\n",
    "`['$796,459.41', '$278.60', '$482,571.67', '$4,503,915.98', '$2,121,418.3', '$1,260,813.3', '$87,231.01', '$1,509,175.45', '$4,138,548.00', '$2,848,913.80', '$594,715.39', '$4,789,988.17', '$4,513,644.5', '$3,191,059.97', '$1,758,712.24', '$4,338,283.54', '$4,738,303.38', '$2,791,759.67', '$769,681.94', '$452,650.23']`\n"
   ]
  },
  {
   "cell_type": "code",
   "execution_count": 66,
   "id": "be475db2-9fac-4cb5-b22d-d9ffcbcefbbb",
   "metadata": {
    "tags": []
   },
   "outputs": [],
   "source": [
    "numbers = pd.Series(['$796,459.41', '$278.60', '$482,571.67', '$4,503,915.98', '$2,121,418.3', '$1,260,813.3', '$87,231.01', '$1,509,175.45', '$4,138,548.00', '$2,848,913.80', '$594,715.39', '$4,789,988.17', '$4,513,644.5', '$3,191,059.97', '$1,758,712.24', '$4,338,283.54', '$4,738,303.38', '$2,791,759.67', '$769,681.94', '$452,650.23'])"
   ]
  },
  {
   "cell_type": "markdown",
   "id": "05fb1874-d8f5-4d26-a2c1-0f9a4df77e7f",
   "metadata": {
    "tags": []
   },
   "source": [
    "## 1. What is the data type of the numbers Series?"
   ]
  },
  {
   "cell_type": "code",
   "execution_count": 67,
   "id": "32ef497e-18c4-4f69-8500-3ab0389173b8",
   "metadata": {
    "tags": []
   },
   "outputs": [
    {
     "data": {
      "text/plain": [
       "pandas.core.series.Series"
      ]
     },
     "execution_count": 67,
     "metadata": {},
     "output_type": "execute_result"
    }
   ],
   "source": [
    "type(numbers)"
   ]
  },
  {
   "cell_type": "markdown",
   "id": "ca75e8e5-d888-4f1f-afeb-555c71b42634",
   "metadata": {
    "tags": []
   },
   "source": [
    "## 2. How many elements are in the number Series?"
   ]
  },
  {
   "cell_type": "code",
   "execution_count": 69,
   "id": "295a3479-6bc3-4a75-b1eb-1297fa7b91d5",
   "metadata": {
    "tags": []
   },
   "outputs": [
    {
     "data": {
      "text/plain": [
       "20"
      ]
     },
     "execution_count": 69,
     "metadata": {},
     "output_type": "execute_result"
    }
   ],
   "source": [
    "len(numbers)"
   ]
  },
  {
   "cell_type": "markdown",
   "id": "09e58a31-d8e4-4326-bca3-2e173414bbc1",
   "metadata": {
    "tags": []
   },
   "source": [
    "## 3. Perform the necessary manipulations by accessing Series attributes and methods to convert the numbers Series to a numeric data type."
   ]
  },
  {
   "cell_type": "code",
   "execution_count": 70,
   "id": "56195ba5-738c-4d07-a80c-42c171198718",
   "metadata": {
    "tags": []
   },
   "outputs": [
    {
     "data": {
      "text/plain": [
       "0      796459.41\n",
       "1         278.60\n",
       "2      482571.67\n",
       "3     4503915.98\n",
       "4     2121418.30\n",
       "5     1260813.30\n",
       "6       87231.01\n",
       "7     1509175.45\n",
       "8     4138548.00\n",
       "9     2848913.80\n",
       "10     594715.39\n",
       "11    4789988.17\n",
       "12    4513644.50\n",
       "13    3191059.97\n",
       "14    1758712.24\n",
       "15    4338283.54\n",
       "16    4738303.38\n",
       "17    2791759.67\n",
       "18     769681.94\n",
       "19     452650.23\n",
       "dtype: float64"
      ]
     },
     "execution_count": 70,
     "metadata": {},
     "output_type": "execute_result"
    }
   ],
   "source": [
    "num_float = numbers.str.replace('$','').str.replace(',','').astype('float')\n",
    "num_float"
   ]
  },
  {
   "cell_type": "markdown",
   "id": "feaae805-2cb3-4ac0-abad-037c742a14ca",
   "metadata": {},
   "source": [
    "## 5. Run the code to discover the minimum value from the Series."
   ]
  },
  {
   "cell_type": "code",
   "execution_count": 71,
   "id": "d69dd3c4-94a9-44b1-abd2-8e96312994d3",
   "metadata": {
    "tags": []
   },
   "outputs": [
    {
     "data": {
      "text/plain": [
       "278.6"
      ]
     },
     "execution_count": 71,
     "metadata": {},
     "output_type": "execute_result"
    }
   ],
   "source": [
    "num_float.min()"
   ]
  },
  {
   "cell_type": "markdown",
   "id": "32fe6c30-279c-476f-839c-3515b00271de",
   "metadata": {},
   "source": [
    "## 6. What is the range of the values in the Series?"
   ]
  },
  {
   "cell_type": "code",
   "execution_count": 72,
   "id": "c2ac7b13-1a17-4489-8580-5c27cd55c6c6",
   "metadata": {
    "tags": []
   },
   "outputs": [
    {
     "data": {
      "text/plain": [
       "4789709.57"
      ]
     },
     "execution_count": 72,
     "metadata": {},
     "output_type": "execute_result"
    }
   ],
   "source": [
    "num_float.max() - num_float.min()"
   ]
  },
  {
   "cell_type": "markdown",
   "id": "5f830cae-266b-49b9-b374-dc7cb84a86c7",
   "metadata": {},
   "source": [
    "## 7. Bin the data into 4 equally sized intervals or bins and output how many values fall into each bin."
   ]
  },
  {
   "cell_type": "code",
   "execution_count": 73,
   "id": "c803282c-79ed-446d-9d20-0d6708d9336c",
   "metadata": {
    "tags": []
   },
   "outputs": [
    {
     "data": {
      "text/plain": [
       "(-4511.11, 1197705.993]       7\n",
       "(3592560.778, 4789988.17]     6\n",
       "(1197705.993, 2395133.385]    4\n",
       "(2395133.385, 3592560.778]    3\n",
       "Name: count, dtype: int64"
      ]
     },
     "execution_count": 73,
     "metadata": {},
     "output_type": "execute_result"
    }
   ],
   "source": [
    "binned_numbers = pd.cut(num_float, bins=4).value_counts()\n",
    "binned_numbers"
   ]
  },
  {
   "cell_type": "markdown",
   "id": "ca8876f4-9c42-4b88-aa11-12d766bf2770",
   "metadata": {},
   "source": [
    "## 8. Plot the binned data in a meaningful way. Be sure to include a title and axis labels."
   ]
  },
  {
   "cell_type": "code",
   "execution_count": 74,
   "id": "51a5bb66-42ef-460b-96bf-7a60dd94ebff",
   "metadata": {
    "tags": []
   },
   "outputs": [
    {
     "data": {
      "text/plain": [
       "<Axes: title={'center': 'Binned Data'}, xlabel='Count', ylabel='Bins'>"
      ]
     },
     "execution_count": 74,
     "metadata": {},
     "output_type": "execute_result"
    },
    {
     "data": {
      "image/png": "[encoded data removed]",
      "text/plain": [
       "<Figure size 640x480 with 1 Axes>"
      ]
     },
     "metadata": {},
     "output_type": "display_data"
    }
   ],
   "source": [
    "binned_numbers.plot(kind='barh',\n",
    "                    xlabel='Count',\n",
    "                    ylabel='Bins',\n",
    "                    title='Binned Data',\n",
    "                    stacked=False)"
   ]
  },
  {
   "cell_type": "markdown",
   "id": "41b2d453-9cb0-4e0e-b7b3-53c6d1b47bfe",
   "metadata": {
    "tags": []
   },
   "source": [
    "Use pandas to create a Series named exam_scores from the following list:\n",
    "\n",
    "`[60, 86, 75, 62, 93, 71, 60, 83, 95, 78, 65, 72, 69, 81, 96, 80, 85, 92, 82, 78]`"
   ]
  },
  {
   "cell_type": "code",
   "execution_count": 75,
   "id": "e3812e9e-3b3e-4074-8c02-ace84b9dff41",
   "metadata": {
    "tags": []
   },
   "outputs": [],
   "source": [
    "exam_scores = pd.Series([60, 86, 75, 62, 93, 71, 60, 83, 95, 78, 65, 72, 69, 81, 96, 80, 85, 92, 82, 78])"
   ]
  },
  {
   "cell_type": "markdown",
   "id": "6de42229-fe1e-46e1-ba49-07033b285654",
   "metadata": {},
   "source": [
    "## 1. How many elements are in the exam_scores Series?"
   ]
  },
  {
   "cell_type": "code",
   "execution_count": 46,
   "id": "19b1de55-b553-4499-a5f0-eac859724efd",
   "metadata": {
    "tags": []
   },
   "outputs": [
    {
     "data": {
      "text/plain": [
       "20"
      ]
     },
     "execution_count": 46,
     "metadata": {},
     "output_type": "execute_result"
    }
   ],
   "source": [
    "len(exam_scores)"
   ]
  },
  {
   "cell_type": "markdown",
   "id": "2d9be6f4-6c50-4045-93bf-e0afdf6042c0",
   "metadata": {
    "tags": []
   },
   "source": [
    "## 2. Run the code to discover the minimum, the maximum, the mean, and the median scores for the exam_scores Series."
   ]
  },
  {
   "cell_type": "code",
   "execution_count": 49,
   "id": "a99b0d9a-4a5e-47d1-9a56-a77a955e7b86",
   "metadata": {
    "tags": []
   },
   "outputs": [
    {
     "data": {
      "text/plain": [
       "60"
      ]
     },
     "execution_count": 49,
     "metadata": {},
     "output_type": "execute_result"
    }
   ],
   "source": [
    "exam_scores.min()"
   ]
  },
  {
   "cell_type": "code",
   "execution_count": 50,
   "id": "0b2ca14b-e53d-4ca9-8976-c37e8a355c97",
   "metadata": {
    "tags": []
   },
   "outputs": [
    {
     "data": {
      "text/plain": [
       "96"
      ]
     },
     "execution_count": 50,
     "metadata": {},
     "output_type": "execute_result"
    }
   ],
   "source": [
    "exam_scores.max()"
   ]
  },
  {
   "cell_type": "code",
   "execution_count": 51,
   "id": "53249998-8d7b-4051-b987-4f226ce6fc04",
   "metadata": {
    "tags": []
   },
   "outputs": [
    {
     "data": {
      "text/plain": [
       "78.15"
      ]
     },
     "execution_count": 51,
     "metadata": {},
     "output_type": "execute_result"
    }
   ],
   "source": [
    "exam_scores.mean()"
   ]
  },
  {
   "cell_type": "code",
   "execution_count": 52,
   "id": "642d8a04-e105-4a5e-b346-edf76d68d1fa",
   "metadata": {
    "tags": []
   },
   "outputs": [
    {
     "data": {
      "text/plain": [
       "79.0"
      ]
     },
     "execution_count": 52,
     "metadata": {},
     "output_type": "execute_result"
    }
   ],
   "source": [
    "exam_scores.median()"
   ]
  },
  {
   "cell_type": "markdown",
   "id": "b9e90863-d6c1-48ea-a60a-a6ec6c50dfdf",
   "metadata": {},
   "source": [
    "## 3. Plot the Series in a meaningful way and make sure your chart has a title and axis labels."
   ]
  },
  {
   "cell_type": "code",
   "execution_count": 53,
   "id": "8edc392c-74ff-400d-aa57-48c900c4d381",
   "metadata": {
    "tags": []
   },
   "outputs": [
    {
     "data": {
      "text/plain": [
       "<Axes: title={'center': 'Spread of Exam Scores'}, ylabel='Scoring Scale'>"
      ]
     },
     "execution_count": 53,
     "metadata": {},
     "output_type": "execute_result"
    },
    {
     "data": {
      "image/png": "[encoded data removed]",
      "text/plain": [
       "<Figure size 100x300 with 1 Axes>"
      ]
     },
     "metadata": {},
     "output_type": "display_data"
    }
   ],
   "source": [
    "exam_scores.plot(kind='box',\n",
    "                 figsize=(1,3),\n",
    "                 title='Spread of Exam Scores',\n",
    "                 ylabel='Scoring Scale',\n",
    "                 stacked=False)\n"
   ]
  },
  {
   "cell_type": "markdown",
   "id": "890c648f-e942-4a5b-94ce-7ed15a2c86a5",
   "metadata": {
    "tags": []
   },
   "source": [
    "## 4. Write the code necessary to implement a curve for your exam_grades Series and save this as curved_grades. Add the necessary points to the highest grade to make it 100, and add the same number of points to every other score in the Series as well."
   ]
  },
  {
   "cell_type": "code",
   "execution_count": 54,
   "id": "a52d1cd5-93e1-4e0f-b46a-697016a16c94",
   "metadata": {
    "tags": []
   },
   "outputs": [
    {
     "data": {
      "text/plain": [
       "0      64\n",
       "1      64\n",
       "2      66\n",
       "3      69\n",
       "4      73\n",
       "5      75\n",
       "6      76\n",
       "7      79\n",
       "8      82\n",
       "9      82\n",
       "10     84\n",
       "11     85\n",
       "12     86\n",
       "13     87\n",
       "14     89\n",
       "15     90\n",
       "16     96\n",
       "17     97\n",
       "18     99\n",
       "19    100\n",
       "dtype: int64"
      ]
     },
     "execution_count": 54,
     "metadata": {},
     "output_type": "execute_result"
    }
   ],
   "source": [
    "curved_scores = (exam_scores + 100-exam_scores.max()).sort_values().reset_index(drop=True)\n",
    "curved_scores"
   ]
  },
  {
   "cell_type": "markdown",
   "id": "a159d14e-1468-47d6-95d7-26017b5f38f5",
   "metadata": {
    "tags": []
   },
   "source": [
    "## 5. Use a method to convert each of the numeric values in the curved_grades Series into a categorical value of letter grades. For example, 86 should be a 'B' and 95 should be an 'A'. Save this as a Series named letter_grades."
   ]
  },
  {
   "cell_type": "markdown",
   "id": "b08c754f-7926-40aa-9d6b-b3de1da7c7be",
   "metadata": {
    "tags": []
   },
   "source": [
    "## 6. Plot your new categorical letter_grades Series in a meaninful way and include a title and axis labels.\n"
   ]
  },
  {
   "cell_type": "code",
   "execution_count": null,
   "id": "7f2a2c67-9755-4092-bcc0-6c4db851b929",
   "metadata": {},
   "outputs": [],
   "source": []
  }
 ],
 "metadata": {
  "kernelspec": {
   "display_name": "Python 3 (ipykernel)",
   "language": "python",
   "name": "python3"
  },
  "language_info": {
   "codemirror_mode": {
    "name": "ipython",
    "version": 3
   },
   "file_extension": ".py",
   "mimetype": "text/x-python",
   "name": "python",
   "nbconvert_exporter": "python",
   "pygments_lexer": "ipython3",
   "version": "3.11.5"
  }
 },
 "nbformat": 4,
 "nbformat_minor": 5
}
