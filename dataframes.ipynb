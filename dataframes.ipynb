{
 "cells": [
  {
   "cell_type": "markdown",
   "id": "7e79ae73-4ef7-4570-9ce3-13064e1d8963",
   "metadata": {},
   "source": [
    "For several of the following exercises, you'll need to load several datasets using the pydataset library. (If you get an error when trying to run the import below, use pip to install the pydataset package.)"
   ]
  },
  {
   "cell_type": "markdown",
   "id": "0142231a-bf73-41ea-bf31-16247a2001e1",
   "metadata": {
    "tags": []
   },
   "source": [
    "<code>from pydataset import data</code>"
   ]
  },
  {
   "cell_type": "markdown",
   "id": "048be50f-dcf7-48f4-991c-dc3e45169c83",
   "metadata": {},
   "source": [
    "When the instructions say to load a dataset, you can pass the name of the dataset as a string to the data function to load the dataset. You can also view the documentation for the data set by passing the show_doc keyword argument."
   ]
  },
  {
   "cell_type": "markdown",
   "id": "f95c6a77-12ad-4d44-a8f7-7bd87990eef8",
   "metadata": {
    "tags": []
   },
   "source": [
    "<code># data('mpg', show_doc=True) # view the documentation for the dataset\n",
    "mpg = data('mpg') # load the dataset and store it in a variable</code>"
   ]
  },
  {
   "cell_type": "markdown",
   "id": "07c08fb6-5d92-438d-8d0b-26b425b49387",
   "metadata": {},
   "source": [
    "All the datasets loaded from the pydataset library will be pandas dataframes."
   ]
  },
  {
   "cell_type": "markdown",
   "id": "98902335-2e0d-4b92-802e-d2a93c06b31a",
   "metadata": {},
   "source": [
    "## 1. Copy the code from the lesson to create a dataframe full of student grades."
   ]
  },
  {
   "cell_type": "markdown",
   "id": "e51c59ce-f740-49cf-97a4-71258ede05b3",
   "metadata": {},
   "source": [
    "    a. Create a column named passing_english that indicates whether each student has a passing grade in english."
   ]
  },
  {
   "cell_type": "markdown",
   "id": "70c67f9b-f9eb-40c2-bb62-cd2b5f22bece",
   "metadata": {},
   "source": [
    "    b. Sort the english grades by the passing_english column. How are duplicates handled?"
   ]
  },
  {
   "cell_type": "markdown",
   "id": "5a1eb886-ee79-41af-815b-b7b01e09c34d",
   "metadata": {
    "tags": []
   },
   "source": [
    "    c. Sort the english grades first by passing_english and then by student name. All the students that are failing english should be first, and within the students that are failing english they should be ordered alphabetically. The same should be true for the students passing english. (Hint: you can pass a list to the .sort_values method)"
   ]
  },
  {
   "cell_type": "markdown",
   "id": "04b74bf2-78e8-4e1f-9728-5257b9a34579",
   "metadata": {},
   "source": [
    "    d. Sort the english grades first by passing_english, and then by the actual english grade, similar to how we did in the last step."
   ]
  },
  {
   "cell_type": "markdown",
   "id": "464c179f-7d50-451a-a0f0-59492781a832",
   "metadata": {},
   "source": [
    "    e. Calculate each students overall grade and add it as a column on the dataframe. The overall grade is the average of the math, english, and reading grades."
   ]
  },
  {
   "cell_type": "markdown",
   "id": "9f36c045-2666-408a-92a4-9be6b46f3593",
   "metadata": {
    "tags": []
   },
   "source": [
    "## 2. Load the mpg dataset. Read the documentation for the dataset and use it for the following questions:"
   ]
  },
  {
   "cell_type": "markdown",
   "id": "e67bbc8b-88b9-44d2-8112-1cfc297517fa",
   "metadata": {},
   "source": [
    "- How many rows and columns are there?"
   ]
  },
  {
   "cell_type": "markdown",
   "id": "379f3d8c-d2a2-4b0b-81ad-53d6c239dc26",
   "metadata": {},
   "source": [
    "- What are the data types of each column?"
   ]
  },
  {
   "cell_type": "markdown",
   "id": "9299a9a5-7310-4b23-980c-8f0abeddb66a",
   "metadata": {},
   "source": [
    "- Summarize the dataframe with .info and .describe"
   ]
  },
  {
   "cell_type": "markdown",
   "id": "e86b060b-af36-4d6b-9214-5287366d7fdd",
   "metadata": {},
   "source": [
    "- Rename the cty column to city."
   ]
  },
  {
   "cell_type": "markdown",
   "id": "ae7b62d2-1b9c-4dfd-8e2e-0f66b61dd939",
   "metadata": {},
   "source": [
    "- Rename the hwy column to highway."
   ]
  },
  {
   "cell_type": "markdown",
   "id": "599ac760-6e7f-4cc4-a867-02fc09de6013",
   "metadata": {},
   "source": [
    "- Do any cars have better city mileage than highway mileage?"
   ]
  },
  {
   "cell_type": "markdown",
   "id": "5043d2d7-2137-4fb2-ae8c-c2814f754009",
   "metadata": {},
   "source": [
    "- Create a column named mileage_difference this column should contain the difference between highway and city mileage for each car."
   ]
  },
  {
   "cell_type": "markdown",
   "id": "c34366fe-8998-4e8a-988e-b8604d2b0b1a",
   "metadata": {},
   "source": [
    "- Which car (or cars) has the highest mileage difference?"
   ]
  },
  {
   "cell_type": "markdown",
   "id": "6a40cfb0-5b6c-4aca-b40e-9b1bb56bdd6d",
   "metadata": {},
   "source": [
    "- Which compact class car has the lowest highway mileage? The best?"
   ]
  },
  {
   "cell_type": "markdown",
   "id": "e9478055-25ed-4eb2-8813-659f9459b7fc",
   "metadata": {},
   "source": [
    "- Create a column named average_mileage that is the mean of the city and highway mileage."
   ]
  },
  {
   "cell_type": "markdown",
   "id": "a8410205-c9a8-4be4-a0e4-e7b6bff04c96",
   "metadata": {},
   "source": [
    "- Which dodge car has the best average mileage? The worst?"
   ]
  },
  {
   "cell_type": "markdown",
   "id": "0f2b2139-c194-4fb7-bdad-57cf583cf0f9",
   "metadata": {},
   "source": [
    "## 3. Load the Mammals dataset. Read the documentation for it, and use the data to answer these questions:"
   ]
  },
  {
   "cell_type": "markdown",
   "id": "6848e1be-a337-416e-9e24-cf604534d706",
   "metadata": {},
   "source": [
    "- How many rows and columns are there?"
   ]
  },
  {
   "cell_type": "markdown",
   "id": "c7d6b4ad-a1e0-4200-8b36-51f12705ec95",
   "metadata": {},
   "source": [
    "- What are the data types?"
   ]
  },
  {
   "cell_type": "markdown",
   "id": "33d597bc-2317-423d-9d45-7671be231427",
   "metadata": {},
   "source": [
    "- Summarize the dataframe with .info and .describe"
   ]
  },
  {
   "cell_type": "markdown",
   "id": "615c8c45-860c-4c8c-b07b-0a92e3dfcda7",
   "metadata": {},
   "source": [
    "- What is the the weight of the fastest animal?"
   ]
  },
  {
   "cell_type": "markdown",
   "id": "b863c344-62bb-419b-963a-798c66e12907",
   "metadata": {},
   "source": [
    "- What is the overal percentage of specials?"
   ]
  },
  {
   "cell_type": "markdown",
   "id": "c6ce0123-bfa9-4de6-8b0a-391d9ac5767c",
   "metadata": {},
   "source": [
    "- How many animals are hoppers that are above the median speed? What percentage is this?"
   ]
  },
  {
   "cell_type": "markdown",
   "id": "05143464-b02f-4939-9b90-6e21f05dd2fb",
   "metadata": {},
   "source": [
    "## Awesome Bonus\n",
    "For much more practice with pandas, go to https://github.com/guipsamora/pandas_exercises and clone the repo down to your laptop. To clone a repository:\n",
    "\n",
    "Copy the SSH address of the repository\n",
    "Run cd ~/codeup-data-science in the terminal\n",
    "Run git clone git@github.com:guipsamora/pandas_exercises.git\n",
    "Run cd pandas_exercises\n",
    "Run git remote remove origin (so you won't accidentally try to push your work to guipsamora's repo_\n",
    "Congratulations! You have cloned guipsamora's pandas exercises to your computer. Now you need to make a new, blank, repository on GitHub.\n",
    "\n",
    "Go to https://github.com/new to make a new repo. Name it pandas_exercises.\n",
    "DO NOT check any check boxes. We need a blank, empty repo.\n",
    "Finally, follow the directions to \"push an existing repository from the command line\" so that you can push up your changes to your own account.\n",
    "Now do your own work, add it, commit it, and push it!\n",
    "\n"
   ]
  },
  {
   "cell_type": "code",
   "execution_count": null,
   "id": "125f80a6-d5e2-49c9-80f7-7060e7a4dff4",
   "metadata": {},
   "outputs": [],
   "source": []
  }
 ],
 "metadata": {
  "kernelspec": {
   "display_name": "Python 3 (ipykernel)",
   "language": "python",
   "name": "python3"
  },
  "language_info": {
   "codemirror_mode": {
    "name": "ipython",
    "version": 3
   },
   "file_extension": ".py",
   "mimetype": "text/x-python",
   "name": "python",
   "nbconvert_exporter": "python",
   "pygments_lexer": "ipython3",
   "version": "3.11.5"
  }
 },
 "nbformat": 4,
 "nbformat_minor": 5
}
