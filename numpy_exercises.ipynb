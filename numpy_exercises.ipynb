{
 "cells": [
  {
   "cell_type": "code",
   "execution_count": 2,
   "id": "9becf6d2-b903-4dcd-8315-534f2da72af9",
   "metadata": {
    "tags": []
   },
   "outputs": [],
   "source": [
    "import numpy as np"
   ]
  },
  {
   "cell_type": "markdown",
   "id": "7673b4e2-4adc-45ec-9943-0d8acd1b962a",
   "metadata": {},
   "source": [
    "Use the following code for the questions below:"
   ]
  },
  {
   "cell_type": "code",
   "execution_count": 3,
   "id": "4e29f179-229b-44b8-bbcd-8d418610f954",
   "metadata": {
    "tags": []
   },
   "outputs": [],
   "source": [
    "a = np.array([4, 10, 12, 23, -2, -1, 0, 0, 0, -6, 3, -7])"
   ]
  },
  {
   "cell_type": "markdown",
   "id": "a60d76bf-7a42-48a3-b8e6-7cc898460a72",
   "metadata": {},
   "source": [
    "1. How many negative numbers are there?"
   ]
  },
  {
   "cell_type": "code",
   "execution_count": 8,
   "id": "830c6cc8-4b8f-4bd4-a949-2f6e26f9fce9",
   "metadata": {
    "tags": []
   },
   "outputs": [
    {
     "data": {
      "text/plain": [
       "4"
      ]
     },
     "execution_count": 8,
     "metadata": {},
     "output_type": "execute_result"
    }
   ],
   "source": [
    "# Create a mask to filter the negatives\n",
    "neg_mask = (a<0)\n",
    "\n",
    "# Apply mask and subsequently a len() function to the filtered array\n",
    "len(a[neg_mask])"
   ]
  },
  {
   "cell_type": "markdown",
   "id": "0e5311ab-43c0-435c-8a44-4fb80a2a8600",
   "metadata": {},
   "source": [
    "2. How many positive numbers are there?"
   ]
  },
  {
   "cell_type": "code",
   "execution_count": 9,
   "id": "abf1901b-435b-4b40-8b9c-b7fa4c4420a0",
   "metadata": {
    "tags": []
   },
   "outputs": [
    {
     "data": {
      "text/plain": [
       "5"
      ]
     },
     "execution_count": 9,
     "metadata": {},
     "output_type": "execute_result"
    }
   ],
   "source": [
    "# Just like above, make a mask to filter positives\n",
    "pos_mask = (a>0)\n",
    "\n",
    "# Apply mask and add len() function\n",
    "len(a[pos_mask])"
   ]
  },
  {
   "cell_type": "markdown",
   "id": "1bba33c0-99d8-4795-95ec-69053a90ff8f",
   "metadata": {},
   "source": [
    "3. How many even positive numbers are there?"
   ]
  },
  {
   "cell_type": "code",
   "execution_count": 12,
   "id": "9606fb8c-2780-40ba-b059-c889b43581c4",
   "metadata": {
    "tags": []
   },
   "outputs": [
    {
     "data": {
      "text/plain": [
       "3"
      ]
     },
     "execution_count": 12,
     "metadata": {},
     "output_type": "execute_result"
    }
   ],
   "source": [
    "# Make a pos_even mask that is both positive and even numbers\n",
    "pos_even = pos_mask & (a%2==0)\n",
    "\n",
    "# Apply mask\n",
    "len(a[pos_even])"
   ]
  },
  {
   "cell_type": "markdown",
   "id": "61c1f24b-de22-45eb-a79c-20766fc32250",
   "metadata": {},
   "source": [
    "4. If you were to add 3 to each data point, how many positive numbers would there be?"
   ]
  },
  {
   "cell_type": "code",
   "execution_count": 24,
   "id": "5668f67b-df37-4eef-b884-ba8d7a6b9a5b",
   "metadata": {
    "tags": []
   },
   "outputs": [
    {
     "data": {
      "text/plain": [
       "10"
      ]
     },
     "execution_count": 24,
     "metadata": {},
     "output_type": "execute_result"
    }
   ],
   "source": [
    "# First add 3 to each data point\n",
    "added_3 = a+3\n",
    "\n",
    "# Was going to add pos_mask to the filter BUT\n",
    "# pos_mask was based off the old values not the new ones so it's not gonna work well\n",
    "\n",
    "# For current simplicity, just gonna do it in-house\n",
    "len(added_3[added_3>0])"
   ]
  },
  {
   "cell_type": "markdown",
   "id": "bd595bd6-9fd4-49b0-84d6-c66f76cce5c4",
   "metadata": {},
   "source": [
    "5. If you squared each number, what would the new mean and standard deviation be?"
   ]
  },
  {
   "cell_type": "code",
   "execution_count": 26,
   "id": "f13b84a6-81a8-4028-ae59-9a419f77d619",
   "metadata": {
    "tags": []
   },
   "outputs": [
    {
     "data": {
      "text/plain": [
       "array([ 16, 100, 144, 529,   4,   1,   0,   0,   0,  36,   9,  49])"
      ]
     },
     "execution_count": 26,
     "metadata": {},
     "output_type": "execute_result"
    }
   ],
   "source": [
    "# Make the new squared array\n",
    "squared_a = a**2\n",
    "squared_a"
   ]
  },
  {
   "cell_type": "code",
   "execution_count": 28,
   "id": "9dabaf6e-e7ed-4f0b-ac3a-05cf6b2584b4",
   "metadata": {
    "tags": []
   },
   "outputs": [
    {
     "data": {
      "text/plain": [
       "74.0"
      ]
     },
     "execution_count": 28,
     "metadata": {},
     "output_type": "execute_result"
    }
   ],
   "source": [
    "# Display the mean\n",
    "squared_a.mean()"
   ]
  },
  {
   "cell_type": "code",
   "execution_count": 29,
   "id": "63073be7-1f94-4308-9a40-5992f168b948",
   "metadata": {
    "tags": []
   },
   "outputs": [
    {
     "data": {
      "text/plain": [
       "144.0243035046516"
      ]
     },
     "execution_count": 29,
     "metadata": {},
     "output_type": "execute_result"
    }
   ],
   "source": [
    "# Display the standard deviation\n",
    "squared_a.std()"
   ]
  },
  {
   "cell_type": "markdown",
   "id": "87224b62-a970-4b36-89c0-a0f2576f4734",
   "metadata": {},
   "source": [
    "6. A common statistical operation on a dataset is **centering**. This means to adjust the data such that the mean of the data is 0. This is done by subtracting the mean from each data point. Center the data set. See [this link](https://www.theanalysisfactor.com/centering-and-standardizing-predictors/) for more on centering"
   ]
  },
  {
   "cell_type": "code",
   "execution_count": 30,
   "id": "08e47515-8498-46bc-a062-3c69f357ab9c",
   "metadata": {
    "tags": []
   },
   "outputs": [
    {
     "data": {
      "text/plain": [
       "array([-58.,  26.,  70., 455., -70., -73., -74., -74., -74., -38., -65.,\n",
       "       -25.])"
      ]
     },
     "execution_count": 30,
     "metadata": {},
     "output_type": "execute_result"
    }
   ],
   "source": [
    "centered_squared = squared_a - squared_a.mean()\n",
    "centered_squared"
   ]
  },
  {
   "cell_type": "markdown",
   "id": "ae519588-2a1a-4072-afbb-f302b7d9c323",
   "metadata": {},
   "source": [
    "7. Calculate the z-score for each data point. Recall that the z-score is given by: Z = (x−μ)/σ"
   ]
  },
  {
   "cell_type": "code",
   "execution_count": 34,
   "id": "9aab92af-abb2-4f4a-9348-cf05ffa4e94f",
   "metadata": {
    "tags": []
   },
   "outputs": [
    {
     "data": {
      "text/plain": [
       "0.249957813535528"
      ]
     },
     "execution_count": 34,
     "metadata": {},
     "output_type": "execute_result"
    }
   ],
   "source": [
    "zscore = sum(a)/squared_a.std()\n",
    "zscore"
   ]
  },
  {
   "cell_type": "markdown",
   "id": "b1873ef6-28e8-4075-b126-4bf6a93ad290",
   "metadata": {},
   "source": [
    "8. Copy the setup and exercise directions from [More Numpy Practice](https://gist.github.com/ryanorsinger/c4cf5a64ec33c014ff2e56951bc8a42d) into your nump_exercises.py and add your solutions."
   ]
  }
 ],
 "metadata": {
  "kernelspec": {
   "display_name": "Python 3 (ipykernel)",
   "language": "python",
   "name": "python3"
  },
  "language_info": {
   "codemirror_mode": {
    "name": "ipython",
    "version": 3
   },
   "file_extension": ".py",
   "mimetype": "text/x-python",
   "name": "python",
   "nbconvert_exporter": "python",
   "pygments_lexer": "ipython3",
   "version": "3.11.5"
  }
 },
 "nbformat": 4,
 "nbformat_minor": 5
}
