{
 "cells": [
  {
   "cell_type": "code",
   "execution_count": 27,
   "id": "9becf6d2-b903-4dcd-8315-534f2da72af9",
   "metadata": {
    "tags": []
   },
   "outputs": [],
   "source": [
    "import numpy as np"
   ]
  },
  {
   "cell_type": "markdown",
   "id": "7673b4e2-4adc-45ec-9943-0d8acd1b962a",
   "metadata": {},
   "source": [
    "Use the following code for the questions below:"
   ]
  },
  {
   "cell_type": "code",
   "execution_count": 28,
   "id": "4e29f179-229b-44b8-bbcd-8d418610f954",
   "metadata": {
    "tags": []
   },
   "outputs": [],
   "source": [
    "a = np.array([4, 10, 12, 23, -2, -1, 0, 0, 0, -6, 3, -7])"
   ]
  },
  {
   "cell_type": "markdown",
   "id": "a60d76bf-7a42-48a3-b8e6-7cc898460a72",
   "metadata": {},
   "source": [
    "1. How many negative numbers are there?"
   ]
  },
  {
   "cell_type": "code",
   "execution_count": 29,
   "id": "830c6cc8-4b8f-4bd4-a949-2f6e26f9fce9",
   "metadata": {
    "tags": []
   },
   "outputs": [
    {
     "data": {
      "text/plain": [
       "4"
      ]
     },
     "execution_count": 29,
     "metadata": {},
     "output_type": "execute_result"
    }
   ],
   "source": [
    "# Create a mask to filter the negatives\n",
    "neg_mask = (a<0)\n",
    "\n",
    "# Apply mask and subsequently a len() function to the filtered array\n",
    "len(a[neg_mask])"
   ]
  },
  {
   "cell_type": "markdown",
   "id": "0e5311ab-43c0-435c-8a44-4fb80a2a8600",
   "metadata": {},
   "source": [
    "2. How many positive numbers are there?"
   ]
  },
  {
   "cell_type": "code",
   "execution_count": 30,
   "id": "abf1901b-435b-4b40-8b9c-b7fa4c4420a0",
   "metadata": {
    "tags": []
   },
   "outputs": [
    {
     "data": {
      "text/plain": [
       "5"
      ]
     },
     "execution_count": 30,
     "metadata": {},
     "output_type": "execute_result"
    }
   ],
   "source": [
    "# Just like above, make a mask to filter positives\n",
    "pos_mask = (a>0)\n",
    "\n",
    "# Apply mask and add len() function\n",
    "len(a[pos_mask])"
   ]
  },
  {
   "cell_type": "markdown",
   "id": "1bba33c0-99d8-4795-95ec-69053a90ff8f",
   "metadata": {},
   "source": [
    "3. How many even positive numbers are there?"
   ]
  },
  {
   "cell_type": "code",
   "execution_count": 31,
   "id": "9606fb8c-2780-40ba-b059-c889b43581c4",
   "metadata": {
    "tags": []
   },
   "outputs": [
    {
     "data": {
      "text/plain": [
       "3"
      ]
     },
     "execution_count": 31,
     "metadata": {},
     "output_type": "execute_result"
    }
   ],
   "source": [
    "# Make a pos_even mask that is both positive and even numbers\n",
    "pos_even = pos_mask & (a%2==0)\n",
    "\n",
    "# Apply mask\n",
    "len(a[pos_even])"
   ]
  },
  {
   "cell_type": "markdown",
   "id": "61c1f24b-de22-45eb-a79c-20766fc32250",
   "metadata": {},
   "source": [
    "4. If you were to add 3 to each data point, how many positive numbers would there be?"
   ]
  },
  {
   "cell_type": "code",
   "execution_count": 32,
   "id": "5668f67b-df37-4eef-b884-ba8d7a6b9a5b",
   "metadata": {
    "tags": []
   },
   "outputs": [
    {
     "data": {
      "text/plain": [
       "10"
      ]
     },
     "execution_count": 32,
     "metadata": {},
     "output_type": "execute_result"
    }
   ],
   "source": [
    "# First add 3 to each data point\n",
    "added_3 = a+3\n",
    "\n",
    "# Was going to add pos_mask to the filter BUT\n",
    "# pos_mask was based off the old values not the new ones so it's not gonna work well\n",
    "\n",
    "# For current simplicity, just gonna do it in-house\n",
    "len(added_3[added_3>0])"
   ]
  },
  {
   "cell_type": "markdown",
   "id": "bd595bd6-9fd4-49b0-84d6-c66f76cce5c4",
   "metadata": {},
   "source": [
    "5. If you squared each number, what would the new mean and standard deviation be?"
   ]
  },
  {
   "cell_type": "code",
   "execution_count": 33,
   "id": "f13b84a6-81a8-4028-ae59-9a419f77d619",
   "metadata": {
    "tags": []
   },
   "outputs": [
    {
     "data": {
      "text/plain": [
       "array([ 16, 100, 144, 529,   4,   1,   0,   0,   0,  36,   9,  49])"
      ]
     },
     "execution_count": 33,
     "metadata": {},
     "output_type": "execute_result"
    }
   ],
   "source": [
    "# Make the new squared array\n",
    "squared_a = a**2\n",
    "squared_a"
   ]
  },
  {
   "cell_type": "code",
   "execution_count": 34,
   "id": "9dabaf6e-e7ed-4f0b-ac3a-05cf6b2584b4",
   "metadata": {
    "tags": []
   },
   "outputs": [
    {
     "data": {
      "text/plain": [
       "74.0"
      ]
     },
     "execution_count": 34,
     "metadata": {},
     "output_type": "execute_result"
    }
   ],
   "source": [
    "# Display the mean\n",
    "squared_a.mean()"
   ]
  },
  {
   "cell_type": "code",
   "execution_count": 35,
   "id": "63073be7-1f94-4308-9a40-5992f168b948",
   "metadata": {
    "tags": []
   },
   "outputs": [
    {
     "data": {
      "text/plain": [
       "144.0243035046516"
      ]
     },
     "execution_count": 35,
     "metadata": {},
     "output_type": "execute_result"
    }
   ],
   "source": [
    "# Display the standard deviation\n",
    "squared_a.std()"
   ]
  },
  {
   "cell_type": "markdown",
   "id": "87224b62-a970-4b36-89c0-a0f2576f4734",
   "metadata": {},
   "source": [
    "6. A common statistical operation on a dataset is **centering**. This means to adjust the data such that the mean of the data is 0. This is done by subtracting the mean from each data point. Center the data set. See [this link](https://www.theanalysisfactor.com/centering-and-standardizing-predictors/) for more on centering"
   ]
  },
  {
   "cell_type": "code",
   "execution_count": 36,
   "id": "08e47515-8498-46bc-a062-3c69f357ab9c",
   "metadata": {
    "tags": []
   },
   "outputs": [
    {
     "data": {
      "text/plain": [
       "array([-58.,  26.,  70., 455., -70., -73., -74., -74., -74., -38., -65.,\n",
       "       -25.])"
      ]
     },
     "execution_count": 36,
     "metadata": {},
     "output_type": "execute_result"
    }
   ],
   "source": [
    "centered_squared = squared_a - squared_a.mean()\n",
    "centered_squared"
   ]
  },
  {
   "cell_type": "markdown",
   "id": "ae519588-2a1a-4072-afbb-f302b7d9c323",
   "metadata": {},
   "source": [
    "7. Calculate the z-score for each data point. Recall that the z-score is given by: Z = (x−μ)/σ"
   ]
  },
  {
   "cell_type": "code",
   "execution_count": 37,
   "id": "9aab92af-abb2-4f4a-9348-cf05ffa4e94f",
   "metadata": {
    "tags": []
   },
   "outputs": [
    {
     "data": {
      "text/plain": [
       "0.249957813535528"
      ]
     },
     "execution_count": 37,
     "metadata": {},
     "output_type": "execute_result"
    }
   ],
   "source": [
    "zscore = sum(a)/squared_a.std()\n",
    "zscore"
   ]
  },
  {
   "cell_type": "markdown",
   "id": "b1873ef6-28e8-4075-b126-4bf6a93ad290",
   "metadata": {},
   "source": [
    "8. Copy the setup and exercise directions from [More Numpy Practice](https://gist.github.com/ryanorsinger/c4cf5a64ec33c014ff2e56951bc8a42d) into your nump_exercises.py and add your solutions."
   ]
  },
  {
   "cell_type": "markdown",
   "id": "3636a049-faa9-417a-9ce1-8985facb18de",
   "metadata": {},
   "source": [
    "# Life w/o numpy to life with numpy\n",
    "## Setup 1"
   ]
  },
  {
   "cell_type": "code",
   "execution_count": 38,
   "id": "52941396-7583-4e9a-9241-9b94e27d6f8d",
   "metadata": {
    "tags": []
   },
   "outputs": [],
   "source": [
    "a = [1, 2, 3, 4, 5, 6, 7, 8, 9, 10]"
   ]
  },
  {
   "cell_type": "markdown",
   "id": "8f03a88f-ba1a-4934-a49c-368a72eb4c29",
   "metadata": {
    "tags": []
   },
   "source": [
    "## Use python's built in functionality/operators to determine the following:\n",
    "### Exercise 1 - Make a variable called sum_of_a to hold the sum of all the numbers in above list"
   ]
  },
  {
   "cell_type": "code",
   "execution_count": 39,
   "id": "0bcc2146-f3eb-4b63-93a2-761fa39eaac9",
   "metadata": {
    "tags": []
   },
   "outputs": [
    {
     "name": "stdout",
     "output_type": "stream",
     "text": [
      "Sum of a: 55\n"
     ]
    }
   ],
   "source": [
    "sum_of_a = sum(a)\n",
    "print('Sum of a:',sum_of_a)"
   ]
  },
  {
   "cell_type": "markdown",
   "id": "96fafd95-45a4-4426-9319-a6766042b28e",
   "metadata": {},
   "source": [
    "### Exercise 2 - Make a variable named min_of_a to hold the minimum of all the numbers in the above list"
   ]
  },
  {
   "cell_type": "code",
   "execution_count": 40,
   "id": "45db6c66-ee30-4eea-8cf6-0a5adec120a0",
   "metadata": {
    "tags": []
   },
   "outputs": [
    {
     "name": "stdout",
     "output_type": "stream",
     "text": [
      "Min of a: 1\n"
     ]
    }
   ],
   "source": [
    "min_of_a = min(a)\n",
    "print('Min of a:',min_of_a)"
   ]
  },
  {
   "cell_type": "markdown",
   "id": "6c7a7fc7-a236-42b2-9d73-40f8e35e4e4b",
   "metadata": {},
   "source": [
    "### Exercise 3 - Make a variable named max_of_a to hold the max number of all the numbers in the above list"
   ]
  },
  {
   "cell_type": "code",
   "execution_count": 41,
   "id": "67125554-b5d4-4542-9b45-366b5a99f16b",
   "metadata": {},
   "outputs": [
    {
     "name": "stdout",
     "output_type": "stream",
     "text": [
      "Max of a: 10\n"
     ]
    }
   ],
   "source": [
    "max_of_a = max(a)\n",
    "print('Max of a:',max_of_a)"
   ]
  },
  {
   "cell_type": "markdown",
   "id": "2fd6f824-75f0-4388-b0be-f791384c945d",
   "metadata": {},
   "source": [
    "### Exercise 4 - Make a variable named mean_of_a to hold the average of all the numbers in the above list"
   ]
  },
  {
   "cell_type": "code",
   "execution_count": 42,
   "id": "76ee2696-552a-40f4-8e7f-3e869fd19b4e",
   "metadata": {},
   "outputs": [
    {
     "name": "stdout",
     "output_type": "stream",
     "text": [
      "Mean of a: 5.5\n"
     ]
    }
   ],
   "source": [
    "mean_of_a = sum(a)/len(a)\n",
    "print('Mean of a:',mean_of_a)"
   ]
  },
  {
   "cell_type": "markdown",
   "id": "bd073321-1a22-407f-852f-c981bb6a6bda",
   "metadata": {},
   "source": [
    "### Exercise 5 - Make a variable named product_of_a to hold the product of multiplying all the numbers in the above list together"
   ]
  },
  {
   "cell_type": "code",
   "execution_count": 43,
   "id": "0d30d31c-0766-4adc-814c-13e5f11b6854",
   "metadata": {},
   "outputs": [
    {
     "name": "stdout",
     "output_type": "stream",
     "text": [
      "Product of a: 3628800\n"
     ]
    }
   ],
   "source": [
    "product_of_a = 1\n",
    "for i in a:\n",
    "    # print(product_of_a,i)\n",
    "    product_of_a *= i\n",
    "\n",
    "print('Product of a:',product_of_a)"
   ]
  },
  {
   "cell_type": "markdown",
   "id": "b9905239-0aab-4f84-b680-f21ddab4494f",
   "metadata": {},
   "source": [
    "### Exercise 6 - Make a variable named squares_of_a. It should hold each number in a squared like [1, 4, 9, 16, 25...]"
   ]
  },
  {
   "cell_type": "code",
   "execution_count": 44,
   "id": "0c0fe8b1-40d4-4898-8273-76d988f20cf2",
   "metadata": {},
   "outputs": [
    {
     "name": "stdout",
     "output_type": "stream",
     "text": [
      "Squares of a: [1, 4, 9, 16, 25, 36, 49, 64, 81, 100]\n"
     ]
    }
   ],
   "source": [
    "squares_of_a = [i**2 for i in a]\n",
    "\n",
    "print('Squares of a:',squares_of_a)"
   ]
  },
  {
   "cell_type": "markdown",
   "id": "4ec73dff-11b6-4458-bc2f-4c3b25dbd8c0",
   "metadata": {},
   "source": [
    "### Exercise 7 - Make a variable named odds_in_a. It should hold only the odd numbers"
   ]
  },
  {
   "cell_type": "code",
   "execution_count": 45,
   "id": "1fd683d2-94d6-4122-ad60-d75c5c6270f5",
   "metadata": {},
   "outputs": [
    {
     "name": "stdout",
     "output_type": "stream",
     "text": [
      "Odds in a: [1, 3, 5, 7, 9]\n"
     ]
    }
   ],
   "source": [
    "odds_in_a = [i for i in a if i%2!=0]\n",
    "\n",
    "print('Odds in a:',odds_in_a)"
   ]
  },
  {
   "cell_type": "markdown",
   "id": "920dd5ed-03ae-4031-aa9a-b1cc5e2e4175",
   "metadata": {},
   "source": [
    "### Exercise 8 - Make a variable named evens_in_a. It should hold only the evens."
   ]
  },
  {
   "cell_type": "code",
   "execution_count": 46,
   "id": "07ccb85f-7c6d-4764-973e-4cbd628f9356",
   "metadata": {},
   "outputs": [
    {
     "name": "stdout",
     "output_type": "stream",
     "text": [
      "Evens in a: [2, 4, 6, 8, 10]\n"
     ]
    }
   ],
   "source": [
    "evens_in_a = [i for i in a if i%2==0]\n",
    "\n",
    "print('Evens in a:',evens_in_a)"
   ]
  },
  {
   "cell_type": "markdown",
   "id": "72db4b66-75ad-48ec-82b0-270a0d450483",
   "metadata": {},
   "source": [
    "## What about life in two dimensions? A list of lists is matrix, a table, a spreadsheet, a chessboard...\n",
    "## Setup 2: Consider what it would take to find the sum, min, max, average, sum, product, and list of squares for this list of two lists."
   ]
  },
  {
   "cell_type": "code",
   "execution_count": 47,
   "id": "13b85359-d2a0-4fa2-86a1-1c9b990e5d64",
   "metadata": {},
   "outputs": [],
   "source": [
    "b = [\n",
    "    [3, 4, 5],\n",
    "    [6, 7, 8]\n",
    "]"
   ]
  },
  {
   "cell_type": "markdown",
   "id": "0f6860cf-40c4-4c30-8ed8-cefd91a2165e",
   "metadata": {},
   "source": [
    "### Exercise 1 - refactor the following to use numpy. Use sum_of_b as the variable. **Hint, you'll first need to make sure that the \"b\" variable is a numpy array**\n",
    "<code>sum_of_b = 0\n",
    "for row in b:\n",
    "    sum_of_b += sum(row)</code>"
   ]
  },
  {
   "cell_type": "code",
   "execution_count": 54,
   "id": "b1a29e5a-9756-4a91-afe9-d4b1433f8dcc",
   "metadata": {
    "tags": []
   },
   "outputs": [
    {
     "data": {
      "text/plain": [
       "33"
      ]
     },
     "execution_count": 54,
     "metadata": {},
     "output_type": "execute_result"
    }
   ],
   "source": [
    "b = np.array(b)\n",
    "\n",
    "sum_of_b = np.sum(b)\n",
    "\n",
    "sum_of_b"
   ]
  },
  {
   "cell_type": "markdown",
   "id": "2276b4c7-2cde-4e1f-8330-2a2530477cfa",
   "metadata": {},
   "source": [
    "### Exercise 2 - refactor the following to use numpy. \n",
    "<code>min_of_b = min(b[0]) if min(b[0]) <= min(b[1]) else min(b[1])</code>"
   ]
  },
  {
   "cell_type": "code",
   "execution_count": 57,
   "id": "4840e821-6196-407c-89e4-0c69e1378b1f",
   "metadata": {
    "tags": []
   },
   "outputs": [
    {
     "data": {
      "text/plain": [
       "3"
      ]
     },
     "execution_count": 57,
     "metadata": {},
     "output_type": "execute_result"
    }
   ],
   "source": [
    "min_of_b = np.min(b)\n",
    "\n",
    "min_of_b"
   ]
  },
  {
   "cell_type": "markdown",
   "id": "dd415871-47d6-4b69-a03f-1496c8900172",
   "metadata": {},
   "source": [
    "### Exercise 3 - refactor the following maximum calculation to find the answer with numpy.\n",
    "<code> max_of_b = max(b[0]) if max(b[0]) >= max(b[1]) else max(b[1])</code>"
   ]
  },
  {
   "cell_type": "code",
   "execution_count": 58,
   "id": "d8cd6e1e-fa4d-4ed8-8f56-611887422fb1",
   "metadata": {
    "tags": []
   },
   "outputs": [
    {
     "data": {
      "text/plain": [
       "8"
      ]
     },
     "execution_count": 58,
     "metadata": {},
     "output_type": "execute_result"
    }
   ],
   "source": [
    "max_of_b = np.max(b)\n",
    "\n",
    "max_of_b"
   ]
  },
  {
   "cell_type": "markdown",
   "id": "d28c517a-f3c5-42d5-894e-93f184021f09",
   "metadata": {},
   "source": [
    "### Exercise 5 - refactor the following to use numpy for calculating the product of all numbers multiplied together.\n",
    "<code>product_of_b = 1\n",
    "for row in b:\n",
    "    for number in row:\n",
    "        product_of_b *= number</code>"
   ]
  },
  {
   "cell_type": "code",
   "execution_count": 59,
   "id": "4153f05b-ee93-4367-8e1a-3a429937575a",
   "metadata": {
    "tags": []
   },
   "outputs": [
    {
     "data": {
      "text/plain": [
       "20160"
      ]
     },
     "execution_count": 59,
     "metadata": {},
     "output_type": "execute_result"
    }
   ],
   "source": [
    "product_of_b = np.product(b)\n",
    "\n",
    "product_of_b"
   ]
  },
  {
   "cell_type": "markdown",
   "id": "eaa857f9-ba90-40a0-9d1e-75968a76ba4d",
   "metadata": {},
   "source": [
    "### Exercise 6 - refactor the following to use numpy to find the list of squares \n",
    "<code>squares_of_b = []\n",
    "for row in b:\n",
    "    for number in row:\n",
    "        squares_of_b.append(number**2)</code>"
   ]
  },
  {
   "cell_type": "code",
   "execution_count": 60,
   "id": "867bbacf-a219-445b-871f-68e6e84f666f",
   "metadata": {
    "tags": []
   },
   "outputs": [
    {
     "data": {
      "text/plain": [
       "array([[ 9, 16, 25],\n",
       "       [36, 49, 64]])"
      ]
     },
     "execution_count": 60,
     "metadata": {},
     "output_type": "execute_result"
    }
   ],
   "source": [
    "squares_of_b = b**2\n",
    "\n",
    "squares_of_b"
   ]
  },
  {
   "cell_type": "markdown",
   "id": "f15befd1-8e3e-4f27-90a4-c03576a1ff09",
   "metadata": {},
   "source": [
    "### Exercise 7 - refactor using numpy to determine the odds_in_b\n",
    "<code>odds_in_b = []\n",
    "for row in b:\n",
    "    for number in row:\n",
    "        if(number % 2 != 0):\n",
    "            odds_in_b.append(number)</code>"
   ]
  },
  {
   "cell_type": "code",
   "execution_count": 62,
   "id": "15eec1fc-d528-4096-a285-a21b62567a79",
   "metadata": {
    "tags": []
   },
   "outputs": [
    {
     "data": {
      "text/plain": [
       "array([3, 5, 7])"
      ]
     },
     "execution_count": 62,
     "metadata": {},
     "output_type": "execute_result"
    }
   ],
   "source": [
    "odds_in_b = b[b%2!=0]\n",
    "\n",
    "odds_in_b"
   ]
  },
  {
   "cell_type": "markdown",
   "id": "cd703ff7-8973-4439-9355-47cd1e47cf9a",
   "metadata": {},
   "source": [
    "### Exercise 8 - refactor the following to use numpy to filter only the even numbers\n",
    "<code>evens_in_b = []\n",
    "for row in b:\n",
    "    for number in row:\n",
    "        if(number % 2 == 0):\n",
    "            evens_in_b.append(number)</code>"
   ]
  },
  {
   "cell_type": "code",
   "execution_count": 63,
   "id": "749c2b20-338d-4004-92d4-971846317713",
   "metadata": {
    "tags": []
   },
   "outputs": [
    {
     "data": {
      "text/plain": [
       "array([4, 6, 8])"
      ]
     },
     "execution_count": 63,
     "metadata": {},
     "output_type": "execute_result"
    }
   ],
   "source": [
    "evens_in_b = b[b%2==0]\n",
    "\n",
    "evens_in_b"
   ]
  },
  {
   "cell_type": "markdown",
   "id": "b85ce106-ce57-4530-b339-0c44bfee493b",
   "metadata": {},
   "source": [
    "### Exercise 9 - print out the shape of the array b."
   ]
  },
  {
   "cell_type": "code",
   "execution_count": 66,
   "id": "7e57d25e-b390-4e79-a0cd-28825ed8abb6",
   "metadata": {
    "tags": []
   },
   "outputs": [
    {
     "data": {
      "text/plain": [
       "(2, 3)"
      ]
     },
     "execution_count": 66,
     "metadata": {},
     "output_type": "execute_result"
    }
   ],
   "source": [
    "b.shape"
   ]
  },
  {
   "cell_type": "markdown",
   "id": "206dc8cd-0c9f-46eb-823f-4b9a77ce705a",
   "metadata": {},
   "source": [
    "### Exercise 10 - transpose the array b."
   ]
  },
  {
   "cell_type": "code",
   "execution_count": 81,
   "id": "c93e8a2e-6c09-4ef5-ab04-2d04a05afc6f",
   "metadata": {
    "tags": []
   },
   "outputs": [
    {
     "data": {
      "text/plain": [
       "array([[3, 6],\n",
       "       [4, 7],\n",
       "       [5, 8]])"
      ]
     },
     "execution_count": 81,
     "metadata": {},
     "output_type": "execute_result"
    }
   ],
   "source": [
    "b.transpose()"
   ]
  },
  {
   "cell_type": "markdown",
   "id": "dea81c11-1817-4c46-bb06-72685f67868e",
   "metadata": {
    "tags": []
   },
   "source": [
    "### Exercise 11 - reshape the array b to be a single list of 6 numbers. (1 x 6)"
   ]
  },
  {
   "cell_type": "code",
   "execution_count": 79,
   "id": "c96ea4cf-089a-4f35-b62c-57001f8f794e",
   "metadata": {
    "tags": []
   },
   "outputs": [
    {
     "data": {
      "text/plain": [
       "array([3, 4, 5, 6, 7, 8])"
      ]
     },
     "execution_count": 79,
     "metadata": {},
     "output_type": "execute_result"
    }
   ],
   "source": [
    "b.flatten()"
   ]
  },
  {
   "cell_type": "markdown",
   "id": "f7df79f5-f505-4e3c-b25a-4104a076bef4",
   "metadata": {},
   "source": [
    "### Exercise 12 - reshape the array b to be a list of 6 lists, each containing only 1 number (6 x 1)"
   ]
  },
  {
   "cell_type": "code",
   "execution_count": 78,
   "id": "d39fb4f4-e0c9-4791-96b0-da609f94878c",
   "metadata": {
    "tags": []
   },
   "outputs": [
    {
     "data": {
      "text/plain": [
       "array([[3],\n",
       "       [4],\n",
       "       [5],\n",
       "       [6],\n",
       "       [7],\n",
       "       [8]])"
      ]
     },
     "execution_count": 78,
     "metadata": {},
     "output_type": "execute_result"
    }
   ],
   "source": [
    "b.reshape((6,1))"
   ]
  },
  {
   "cell_type": "markdown",
   "id": "fe15c15c-ff67-4fa4-8b2a-cc595765f3e2",
   "metadata": {},
   "source": [
    "## Setup 3"
   ]
  },
  {
   "cell_type": "code",
   "execution_count": 89,
   "id": "d1025f79-e824-4a68-97f7-887c787614f2",
   "metadata": {},
   "outputs": [],
   "source": [
    "c = [\n",
    "    [1, 2, 3],\n",
    "    [4, 5, 6],\n",
    "    [7, 8, 9]\n",
    "]\n",
    "\n",
    "# HINT, you'll first need to make sure that the \"c\" variable is a numpy array prior to using numpy array methods.\n",
    "c = np.array(c)"
   ]
  },
  {
   "cell_type": "markdown",
   "id": "61661577-48d5-4e8d-8e2b-2b3c8c8d4e9b",
   "metadata": {},
   "source": [
    "### Exercise 1 - Find the min, max, sum, and product of c."
   ]
  },
  {
   "cell_type": "code",
   "execution_count": 90,
   "id": "dad64dae-c8dd-48e6-8920-e0f4860c8eeb",
   "metadata": {
    "tags": []
   },
   "outputs": [
    {
     "data": {
      "text/plain": [
       "1"
      ]
     },
     "execution_count": 90,
     "metadata": {},
     "output_type": "execute_result"
    }
   ],
   "source": [
    "np.min(c)"
   ]
  },
  {
   "cell_type": "code",
   "execution_count": 91,
   "id": "aba19a03-8d50-4eac-b0f0-c44eb1030844",
   "metadata": {
    "tags": []
   },
   "outputs": [
    {
     "data": {
      "text/plain": [
       "9"
      ]
     },
     "execution_count": 91,
     "metadata": {},
     "output_type": "execute_result"
    }
   ],
   "source": [
    "np.max(c)"
   ]
  },
  {
   "cell_type": "code",
   "execution_count": 92,
   "id": "26d7208f-d984-4428-95ef-4a2f59e21563",
   "metadata": {
    "tags": []
   },
   "outputs": [
    {
     "data": {
      "text/plain": [
       "362880"
      ]
     },
     "execution_count": 92,
     "metadata": {},
     "output_type": "execute_result"
    }
   ],
   "source": [
    "np.prod(c)"
   ]
  },
  {
   "cell_type": "markdown",
   "id": "567bd356-2186-46fa-80e8-a479496fd22c",
   "metadata": {},
   "source": [
    "### Exercise 2 - Determine the standard deviation of c."
   ]
  },
  {
   "cell_type": "code",
   "execution_count": 93,
   "id": "e9936f14-bec9-4441-8d2c-d42bfecc7c84",
   "metadata": {
    "tags": []
   },
   "outputs": [
    {
     "data": {
      "text/plain": [
       "2.581988897471611"
      ]
     },
     "execution_count": 93,
     "metadata": {},
     "output_type": "execute_result"
    }
   ],
   "source": [
    "np.std(c)"
   ]
  },
  {
   "cell_type": "markdown",
   "id": "c3cf7e87-6bdd-4f55-9c5b-4d2672462992",
   "metadata": {},
   "source": [
    "### Exercise 3 - Determine the variance of c."
   ]
  },
  {
   "cell_type": "code",
   "execution_count": 94,
   "id": "274d78a4-a292-42a5-9a4d-212f3aa18275",
   "metadata": {
    "tags": []
   },
   "outputs": [
    {
     "data": {
      "text/plain": [
       "6.666666666666667"
      ]
     },
     "execution_count": 94,
     "metadata": {},
     "output_type": "execute_result"
    }
   ],
   "source": [
    "np.var(c)"
   ]
  },
  {
   "cell_type": "markdown",
   "id": "e4af9f93-57b5-4d73-b213-0183e7533daf",
   "metadata": {},
   "source": [
    "### Exercise 4 - Print out the shape of the array c"
   ]
  },
  {
   "cell_type": "code",
   "execution_count": 95,
   "id": "465e3a9a-de7d-45c3-af6b-ff621303c4c7",
   "metadata": {
    "tags": []
   },
   "outputs": [
    {
     "data": {
      "text/plain": [
       "(3, 3)"
      ]
     },
     "execution_count": 95,
     "metadata": {},
     "output_type": "execute_result"
    }
   ],
   "source": [
    "c.shape"
   ]
  },
  {
   "cell_type": "markdown",
   "id": "c463c7e4-b6ee-417d-b25c-e9c8eeafe558",
   "metadata": {},
   "source": [
    "### Exercise 5 - Transpose c and print out transposed result."
   ]
  },
  {
   "cell_type": "code",
   "execution_count": 97,
   "id": "6db6b5f9-2262-4c45-a7ea-ac7bff57e8d8",
   "metadata": {
    "tags": []
   },
   "outputs": [
    {
     "data": {
      "text/plain": [
       "array([[1, 4, 7],\n",
       "       [2, 5, 8],\n",
       "       [3, 6, 9]])"
      ]
     },
     "execution_count": 97,
     "metadata": {},
     "output_type": "execute_result"
    }
   ],
   "source": [
    "c.transpose()"
   ]
  },
  {
   "cell_type": "markdown",
   "id": "d4bf42e0-2dc1-4014-bd72-ad3c5bc6642b",
   "metadata": {},
   "source": [
    "### Exercise 6 - Get the dot product of the array c with c. "
   ]
  },
  {
   "cell_type": "code",
   "execution_count": 103,
   "id": "0f5a1ae5-b6f5-4e77-b1a4-4bff1fcc84e7",
   "metadata": {
    "tags": []
   },
   "outputs": [
    {
     "data": {
      "text/plain": [
       "array([[ 30,  36,  42],\n",
       "       [ 66,  81,  96],\n",
       "       [102, 126, 150]])"
      ]
     },
     "execution_count": 103,
     "metadata": {},
     "output_type": "execute_result"
    }
   ],
   "source": [
    "np.dot(c,c)"
   ]
  },
  {
   "cell_type": "markdown",
   "id": "b1ff7e48-ada6-4c89-a02b-46086aa44e1a",
   "metadata": {},
   "source": [
    "### Exercise 7 - Write the code necessary to sum up the result of c times c transposed. Answer should be 261"
   ]
  },
  {
   "cell_type": "code",
   "execution_count": 102,
   "id": "bbc1bc49-eaa5-45e3-a2b1-199157eff58e",
   "metadata": {
    "tags": []
   },
   "outputs": [
    {
     "data": {
      "text/plain": [
       "261"
      ]
     },
     "execution_count": 102,
     "metadata": {},
     "output_type": "execute_result"
    }
   ],
   "source": [
    "sum_c_transposed = np.sum(c * c.transpose())\n",
    "sum_c_transposed"
   ]
  },
  {
   "cell_type": "markdown",
   "id": "81e6483a-1fd7-4490-bb48-f931b6116d0a",
   "metadata": {},
   "source": [
    "### Exercise 8 - Write the code necessary to determine the product of c times c transposed. Answer should be 131681894400."
   ]
  },
  {
   "cell_type": "code",
   "execution_count": 104,
   "id": "55779093-5265-4867-8328-75fea174b814",
   "metadata": {
    "tags": []
   },
   "outputs": [
    {
     "data": {
      "text/plain": [
       "131681894400"
      ]
     },
     "execution_count": 104,
     "metadata": {},
     "output_type": "execute_result"
    }
   ],
   "source": [
    "prod_c_transposed = np.prod(c * c.transpose())\n",
    "prod_c_transposed"
   ]
  },
  {
   "cell_type": "markdown",
   "id": "672faa01-13c9-46c9-a454-7ee20bbe2f84",
   "metadata": {},
   "source": [
    "## Setup 4"
   ]
  },
  {
   "cell_type": "code",
   "execution_count": 105,
   "id": "9b8a2b71-7feb-4d6a-a194-5377629baa94",
   "metadata": {},
   "outputs": [],
   "source": [
    "d = [\n",
    "    [90, 30, 45, 0, 120, 180],\n",
    "    [45, -90, -30, 270, 90, 0],\n",
    "    [60, 45, -45, 90, -45, 180]\n",
    "]\n",
    "d = np.array(d)"
   ]
  },
  {
   "cell_type": "markdown",
   "id": "a421a213-ff10-4fc2-8037-ad8ea19c1c06",
   "metadata": {},
   "source": [
    "### Exercise 1 - Find the sine of all the numbers in d"
   ]
  },
  {
   "cell_type": "code",
   "execution_count": 106,
   "id": "c6c0f50e-b24a-4092-8539-57cb604cac43",
   "metadata": {
    "tags": []
   },
   "outputs": [
    {
     "data": {
      "text/plain": [
       "array([[ 0.89399666, -0.98803162,  0.85090352,  0.        ,  0.58061118,\n",
       "        -0.80115264],\n",
       "       [ 0.85090352, -0.89399666,  0.98803162, -0.17604595,  0.89399666,\n",
       "         0.        ],\n",
       "       [-0.30481062,  0.85090352, -0.85090352,  0.89399666, -0.85090352,\n",
       "        -0.80115264]])"
      ]
     },
     "execution_count": 106,
     "metadata": {},
     "output_type": "execute_result"
    }
   ],
   "source": [
    "np.sin(d)"
   ]
  },
  {
   "cell_type": "markdown",
   "id": "c7a67c0f-0050-4df7-ac8e-7482431128bd",
   "metadata": {},
   "source": [
    "### Exercise 2 - Find the cosine of all the numbers in d"
   ]
  },
  {
   "cell_type": "code",
   "execution_count": 107,
   "id": "e25198d4-5d78-43a2-93fd-dc8fdf699c46",
   "metadata": {
    "tags": []
   },
   "outputs": [
    {
     "data": {
      "text/plain": [
       "array([[-0.44807362,  0.15425145,  0.52532199,  1.        ,  0.81418097,\n",
       "        -0.59846007],\n",
       "       [ 0.52532199, -0.44807362,  0.15425145,  0.98438195, -0.44807362,\n",
       "         1.        ],\n",
       "       [-0.95241298,  0.52532199,  0.52532199, -0.44807362,  0.52532199,\n",
       "        -0.59846007]])"
      ]
     },
     "execution_count": 107,
     "metadata": {},
     "output_type": "execute_result"
    }
   ],
   "source": [
    "np.cos(d)"
   ]
  },
  {
   "cell_type": "markdown",
   "id": "2de1b464-37bf-423f-96f3-1c9cf0ae04c9",
   "metadata": {},
   "source": [
    "### Exercise 3 - Find the tangent of all the numbers in d"
   ]
  },
  {
   "cell_type": "code",
   "execution_count": 108,
   "id": "bf4f2610-a2f6-4b6b-b437-140b57b1bb41",
   "metadata": {
    "tags": []
   },
   "outputs": [
    {
     "data": {
      "text/plain": [
       "array([[-1.99520041, -6.4053312 ,  1.61977519,  0.        ,  0.71312301,\n",
       "         1.33869021],\n",
       "       [ 1.61977519,  1.99520041,  6.4053312 , -0.17883906, -1.99520041,\n",
       "         0.        ],\n",
       "       [ 0.32004039,  1.61977519, -1.61977519, -1.99520041, -1.61977519,\n",
       "         1.33869021]])"
      ]
     },
     "execution_count": 108,
     "metadata": {},
     "output_type": "execute_result"
    }
   ],
   "source": [
    "np.tan(d)"
   ]
  },
  {
   "cell_type": "markdown",
   "id": "b74d6a8d-5988-4dec-bd78-e9a3c721b03f",
   "metadata": {
    "tags": []
   },
   "source": [
    "### Exercise 4 - Find all the negative numbers in d"
   ]
  },
  {
   "cell_type": "code",
   "execution_count": 109,
   "id": "6b13beac-bb79-4378-80be-82de85ac7da7",
   "metadata": {
    "tags": []
   },
   "outputs": [
    {
     "data": {
      "text/plain": [
       "array([[ -90,  -30,  -45,    0, -120, -180],\n",
       "       [ -45,   90,   30, -270,  -90,    0],\n",
       "       [ -60,  -45,   45,  -90,   45, -180]])"
      ]
     },
     "execution_count": 109,
     "metadata": {},
     "output_type": "execute_result"
    }
   ],
   "source": [
    "np.negative(d)"
   ]
  },
  {
   "cell_type": "markdown",
   "id": "06b97d2f-c10d-47ba-b5c7-8eb9c83f644f",
   "metadata": {},
   "source": [
    "### Exercise 5 - Find all the positive numbers in d"
   ]
  },
  {
   "cell_type": "code",
   "execution_count": 110,
   "id": "03a6ae2b-5166-4d52-a2a7-f3e8a02bcf9f",
   "metadata": {
    "tags": []
   },
   "outputs": [
    {
     "data": {
      "text/plain": [
       "array([[ 90,  30,  45,   0, 120, 180],\n",
       "       [ 45, -90, -30, 270,  90,   0],\n",
       "       [ 60,  45, -45,  90, -45, 180]])"
      ]
     },
     "execution_count": 110,
     "metadata": {},
     "output_type": "execute_result"
    }
   ],
   "source": [
    "np.positive(d)"
   ]
  },
  {
   "cell_type": "markdown",
   "id": "c9576eff-9cb9-48f8-a471-e10308eb3b8a",
   "metadata": {},
   "source": [
    "### Exercise 6 - Return an array of only the unique numbers in d."
   ]
  },
  {
   "cell_type": "code",
   "execution_count": 111,
   "id": "5140a224-681d-43b9-b876-b8b9b9efcf63",
   "metadata": {
    "tags": []
   },
   "outputs": [
    {
     "data": {
      "text/plain": [
       "array([-90, -45, -30,   0,  30,  45,  60,  90, 120, 180, 270])"
      ]
     },
     "execution_count": 111,
     "metadata": {},
     "output_type": "execute_result"
    }
   ],
   "source": [
    "np.unique(d)"
   ]
  },
  {
   "cell_type": "markdown",
   "id": "9e9f75ed-8b1a-4a9f-b518-3397a36f3b71",
   "metadata": {},
   "source": [
    "### Exercise 7 - Determine how many unique numbers there are in d."
   ]
  },
  {
   "cell_type": "code",
   "execution_count": 112,
   "id": "483322ec-fa95-46ad-86f4-8c8fc443a925",
   "metadata": {
    "tags": []
   },
   "outputs": [
    {
     "data": {
      "text/plain": [
       "11"
      ]
     },
     "execution_count": 112,
     "metadata": {},
     "output_type": "execute_result"
    }
   ],
   "source": [
    "len(np.unique(d))"
   ]
  },
  {
   "cell_type": "markdown",
   "id": "bbbe2d83-fd46-41fc-b6db-f9320f7f9936",
   "metadata": {},
   "source": [
    "### Exercise 8 - Print out the shape of d."
   ]
  },
  {
   "cell_type": "code",
   "execution_count": 113,
   "id": "38e348a2-4163-4f68-9c17-db31870af71a",
   "metadata": {
    "tags": []
   },
   "outputs": [
    {
     "data": {
      "text/plain": [
       "(3, 6)"
      ]
     },
     "execution_count": 113,
     "metadata": {},
     "output_type": "execute_result"
    }
   ],
   "source": [
    "d.shape"
   ]
  },
  {
   "cell_type": "markdown",
   "id": "75954f36-8b06-4e94-a997-8eb94813ec4f",
   "metadata": {},
   "source": [
    "### Exercise 9 - Transpose and then print out the shape of d."
   ]
  },
  {
   "cell_type": "code",
   "execution_count": 115,
   "id": "d90f7d1a-d4a0-49cb-af3d-5c106eca3f3e",
   "metadata": {
    "tags": []
   },
   "outputs": [
    {
     "data": {
      "text/plain": [
       "(6, 3)"
      ]
     },
     "execution_count": 115,
     "metadata": {},
     "output_type": "execute_result"
    }
   ],
   "source": [
    "d.transpose().shape"
   ]
  },
  {
   "cell_type": "markdown",
   "id": "c32f7d5c-626f-49ed-be91-5b5a8ebb25eb",
   "metadata": {},
   "source": [
    "### Exercise 10 - Reshape d into an array of 9 x 2"
   ]
  },
  {
   "cell_type": "code",
   "execution_count": 116,
   "id": "c3cca897-4295-40c4-acc7-739b4b37a43f",
   "metadata": {
    "tags": []
   },
   "outputs": [
    {
     "data": {
      "text/plain": [
       "array([[ 90,  30],\n",
       "       [ 45,   0],\n",
       "       [120, 180],\n",
       "       [ 45, -90],\n",
       "       [-30, 270],\n",
       "       [ 90,   0],\n",
       "       [ 60,  45],\n",
       "       [-45,  90],\n",
       "       [-45, 180]])"
      ]
     },
     "execution_count": 116,
     "metadata": {},
     "output_type": "execute_result"
    }
   ],
   "source": [
    "d.reshape(9,2)"
   ]
  },
  {
   "cell_type": "code",
   "execution_count": null,
   "id": "9bb6b84c-c524-47ae-b6da-ee0d82169656",
   "metadata": {},
   "outputs": [],
   "source": []
  }
 ],
 "metadata": {
  "kernelspec": {
   "display_name": "Python 3 (ipykernel)",
   "language": "python",
   "name": "python3"
  },
  "language_info": {
   "codemirror_mode": {
    "name": "ipython",
    "version": 3
   },
   "file_extension": ".py",
   "mimetype": "text/x-python",
   "name": "python",
   "nbconvert_exporter": "python",
   "pygments_lexer": "ipython3",
   "version": "3.11.5"
  }
 },
 "nbformat": 4,
 "nbformat_minor": 5
}
